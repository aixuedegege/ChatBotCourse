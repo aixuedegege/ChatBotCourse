{
  "nbformat": 4,
  "nbformat_minor": 0,
  "metadata": {
    "colab": {
      "name": "fine-tuning bert.ipynb",
      "provenance": [],
      "collapsed_sections": [],
      "include_colab_link": true
    },
    "kernelspec": {
      "name": "python3",
      "display_name": "Python 3"
    },
    "accelerator": "GPU"
  },
  "cells": [
    {
      "cell_type": "markdown",
      "metadata": {
        "id": "view-in-github",
        "colab_type": "text"
      },
      "source": [
        "<a href=\"https://colab.research.google.com/github/aixuedegege/ChatBotCourse/blob/master/fine_tuning_bert.ipynb\" target=\"_parent\"><img src=\"https://colab.research.google.com/assets/colab-badge.svg\" alt=\"Open In Colab\"/></a>"
      ]
    },
    {
      "cell_type": "code",
      "metadata": {
        "id": "DYxXwsINzZkA",
        "colab_type": "code",
        "colab": {}
      },
      "source": [
        "# 本文代码全部参考：http://mccormickml.com/2019/07/22/BERT-fine-tuning/"
      ],
      "execution_count": 0,
      "outputs": []
    },
    {
      "cell_type": "code",
      "metadata": {
        "id": "aQq6GjseZ5n6",
        "colab_type": "code",
        "colab": {}
      },
      "source": [
        "import tensorflow as tf"
      ],
      "execution_count": 0,
      "outputs": []
    },
    {
      "cell_type": "code",
      "metadata": {
        "id": "t-IO-5WdZ8N3",
        "colab_type": "code",
        "colab": {
          "base_uri": "https://localhost:8080/",
          "height": 35
        },
        "outputId": "7233b6a6-4204-4eb4-e6c4-1d353a2c2e64"
      },
      "source": [
        "device_name = tf.test.gpu_device_name()\n",
        "if device_name != '/device:GPU:0':\n",
        "  raise SystemError('GPU device not found')\n",
        "print('Found GPU at: {}'.format(device_name))"
      ],
      "execution_count": 52,
      "outputs": [
        {
          "output_type": "stream",
          "text": [
            "Found GPU at: /device:GPU:0\n"
          ],
          "name": "stdout"
        }
      ]
    },
    {
      "cell_type": "code",
      "metadata": {
        "id": "5wj7rSz4aA3s",
        "colab_type": "code",
        "colab": {
          "base_uri": "https://localhost:8080/",
          "height": 377
        },
        "outputId": "9f14221d-8ecd-403c-baa6-3e58282b8838"
      },
      "source": [
        "!pip install pytorch-pretrained-bert pytorch-nlp"
      ],
      "execution_count": 53,
      "outputs": [
        {
          "output_type": "stream",
          "text": [
            "Requirement already satisfied: pytorch-pretrained-bert in /usr/local/lib/python3.6/dist-packages (0.6.2)\n",
            "Requirement already satisfied: pytorch-nlp in /usr/local/lib/python3.6/dist-packages (0.4.1)\n",
            "Requirement already satisfied: numpy in /usr/local/lib/python3.6/dist-packages (from pytorch-pretrained-bert) (1.16.5)\n",
            "Requirement already satisfied: boto3 in /usr/local/lib/python3.6/dist-packages (from pytorch-pretrained-bert) (1.9.243)\n",
            "Requirement already satisfied: regex in /usr/local/lib/python3.6/dist-packages (from pytorch-pretrained-bert) (2019.8.19)\n",
            "Requirement already satisfied: torch>=0.4.1 in /usr/local/lib/python3.6/dist-packages (from pytorch-pretrained-bert) (1.2.0)\n",
            "Requirement already satisfied: tqdm in /usr/local/lib/python3.6/dist-packages (from pytorch-pretrained-bert) (4.28.1)\n",
            "Requirement already satisfied: requests in /usr/local/lib/python3.6/dist-packages (from pytorch-pretrained-bert) (2.21.0)\n",
            "Requirement already satisfied: pandas in /usr/local/lib/python3.6/dist-packages (from pytorch-nlp) (0.24.2)\n",
            "Requirement already satisfied: s3transfer<0.3.0,>=0.2.0 in /usr/local/lib/python3.6/dist-packages (from boto3->pytorch-pretrained-bert) (0.2.1)\n",
            "Requirement already satisfied: jmespath<1.0.0,>=0.7.1 in /usr/local/lib/python3.6/dist-packages (from boto3->pytorch-pretrained-bert) (0.9.4)\n",
            "Requirement already satisfied: botocore<1.13.0,>=1.12.243 in /usr/local/lib/python3.6/dist-packages (from boto3->pytorch-pretrained-bert) (1.12.243)\n",
            "Requirement already satisfied: chardet<3.1.0,>=3.0.2 in /usr/local/lib/python3.6/dist-packages (from requests->pytorch-pretrained-bert) (3.0.4)\n",
            "Requirement already satisfied: certifi>=2017.4.17 in /usr/local/lib/python3.6/dist-packages (from requests->pytorch-pretrained-bert) (2019.9.11)\n",
            "Requirement already satisfied: idna<2.9,>=2.5 in /usr/local/lib/python3.6/dist-packages (from requests->pytorch-pretrained-bert) (2.8)\n",
            "Requirement already satisfied: urllib3<1.25,>=1.21.1 in /usr/local/lib/python3.6/dist-packages (from requests->pytorch-pretrained-bert) (1.24.3)\n",
            "Requirement already satisfied: python-dateutil>=2.5.0 in /usr/local/lib/python3.6/dist-packages (from pandas->pytorch-nlp) (2.5.3)\n",
            "Requirement already satisfied: pytz>=2011k in /usr/local/lib/python3.6/dist-packages (from pandas->pytorch-nlp) (2018.9)\n",
            "Requirement already satisfied: docutils<0.16,>=0.10 in /usr/local/lib/python3.6/dist-packages (from botocore<1.13.0,>=1.12.243->boto3->pytorch-pretrained-bert) (0.15.2)\n",
            "Requirement already satisfied: six>=1.5 in /usr/local/lib/python3.6/dist-packages (from python-dateutil>=2.5.0->pandas->pytorch-nlp) (1.12.0)\n"
          ],
          "name": "stdout"
        }
      ]
    },
    {
      "cell_type": "code",
      "metadata": {
        "id": "5nMJuSnobzlL",
        "colab_type": "code",
        "colab": {
          "base_uri": "https://localhost:8080/",
          "height": 35
        },
        "outputId": "1b4ab66e-b7a3-4660-b402-b57e4c675ee6"
      },
      "source": [
        "tf.__version__"
      ],
      "execution_count": 54,
      "outputs": [
        {
          "output_type": "execute_result",
          "data": {
            "text/plain": [
              "'1.15.0-rc3'"
            ]
          },
          "metadata": {
            "tags": []
          },
          "execution_count": 54
        }
      ]
    },
    {
      "cell_type": "code",
      "metadata": {
        "id": "Xqx1LVjycOT0",
        "colab_type": "code",
        "colab": {}
      },
      "source": [
        "import torch\n",
        "from torch.utils.data import TensorDataset, DataLoader, RandomSampler, SequentialSampler\n",
        "from keras.preprocessing.sequence import pad_sequences\n",
        "from sklearn.model_selection import train_test_split\n",
        "from pytorch_pretrained_bert import BertTokenizer, BertConfig\n",
        "from pytorch_pretrained_bert import BertAdam, BertForSequenceClassification\n",
        "from tqdm import tqdm, trange\n",
        "import pandas as pd\n",
        "import io\n",
        "import numpy as np\n",
        "import matplotlib.pyplot as plt\n",
        "% matplotlib inline"
      ],
      "execution_count": 0,
      "outputs": []
    },
    {
      "cell_type": "code",
      "metadata": {
        "id": "wjO22E2Ip8x3",
        "colab_type": "code",
        "colab": {
          "base_uri": "https://localhost:8080/",
          "height": 35
        },
        "outputId": "e42f9bbb-7fc4-4407-ebdd-e52ba40f98f4"
      },
      "source": [
        " torch.cuda.is_available()"
      ],
      "execution_count": 56,
      "outputs": [
        {
          "output_type": "execute_result",
          "data": {
            "text/plain": [
              "True"
            ]
          },
          "metadata": {
            "tags": []
          },
          "execution_count": 56
        }
      ]
    },
    {
      "cell_type": "code",
      "metadata": {
        "id": "sZrncnGGccHj",
        "colab_type": "code",
        "colab": {
          "base_uri": "https://localhost:8080/",
          "height": 35
        },
        "outputId": "3693f830-1238-4bba-b931-c61338f06ac5"
      },
      "source": [
        "# In order for torch to use the GPU, we need to identify and specify the GPU as the device. Later, in our training loop, we will load data onto the device.\n",
        "device = torch.device(\"cuda\" if torch.cuda.is_available() else \"cpu\")\n",
        "n_gpu = torch.cuda.device_count()\n",
        "torch.cuda.get_device_name(0)"
      ],
      "execution_count": 57,
      "outputs": [
        {
          "output_type": "execute_result",
          "data": {
            "text/plain": [
              "'Tesla K80'"
            ]
          },
          "metadata": {
            "tags": []
          },
          "execution_count": 57
        }
      ]
    },
    {
      "cell_type": "code",
      "metadata": {
        "id": "_8bTpwRKcpAC",
        "colab_type": "code",
        "colab": {}
      },
      "source": [
        "# Load Dataset\n",
        "# 数据有4列：\n",
        "# Column 1: the code representing the source of the sentence.\n",
        "\n",
        "# Column 2: the acceptability judgment label (0=unacceptable, 1=acceptable).\n",
        "\n",
        "# Column 3: the acceptability judgment as originally notated by the author.\n",
        "\n",
        "# Column 4: the sentence.\n",
        "# from google.colab import files\n",
        "# uploaded = files.upload()\n"
      ],
      "execution_count": 0,
      "outputs": []
    },
    {
      "cell_type": "code",
      "metadata": {
        "id": "VS19FEGNdU85",
        "colab_type": "code",
        "colab": {}
      },
      "source": [
        "df = pd.read_csv(\"in_domain_train.tsv\", delimiter='\\t', header=None, names=['sentence_source', 'label', 'label_notes', 'sentence'])"
      ],
      "execution_count": 0,
      "outputs": []
    },
    {
      "cell_type": "code",
      "metadata": {
        "id": "2Z868n-ReoCQ",
        "colab_type": "code",
        "colab": {
          "base_uri": "https://localhost:8080/",
          "height": 359
        },
        "outputId": "b4783b75-8bab-4ebc-bad5-ca8410775358"
      },
      "source": [
        "df.sample(10)"
      ],
      "execution_count": 59,
      "outputs": [
        {
          "output_type": "execute_result",
          "data": {
            "text/html": [
              "<div>\n",
              "<style scoped>\n",
              "    .dataframe tbody tr th:only-of-type {\n",
              "        vertical-align: middle;\n",
              "    }\n",
              "\n",
              "    .dataframe tbody tr th {\n",
              "        vertical-align: top;\n",
              "    }\n",
              "\n",
              "    .dataframe thead th {\n",
              "        text-align: right;\n",
              "    }\n",
              "</style>\n",
              "<table border=\"1\" class=\"dataframe\">\n",
              "  <thead>\n",
              "    <tr style=\"text-align: right;\">\n",
              "      <th></th>\n",
              "      <th>sentence_source</th>\n",
              "      <th>label</th>\n",
              "      <th>label_notes</th>\n",
              "      <th>sentence</th>\n",
              "    </tr>\n",
              "  </thead>\n",
              "  <tbody>\n",
              "    <tr>\n",
              "      <th>7787</th>\n",
              "      <td>ad03</td>\n",
              "      <td>1</td>\n",
              "      <td>NaN</td>\n",
              "      <td>we believed him to be the headmaster</td>\n",
              "    </tr>\n",
              "    <tr>\n",
              "      <th>4570</th>\n",
              "      <td>ks08</td>\n",
              "      <td>0</td>\n",
              "      <td>*</td>\n",
              "      <td>a medal was been given to the mayor by the sew...</td>\n",
              "    </tr>\n",
              "    <tr>\n",
              "      <th>308</th>\n",
              "      <td>cj99</td>\n",
              "      <td>0</td>\n",
              "      <td>??</td>\n",
              "      <td>this is the problem that you 'll beat the comp...</td>\n",
              "    </tr>\n",
              "    <tr>\n",
              "      <th>1321</th>\n",
              "      <td>r-67</td>\n",
              "      <td>1</td>\n",
              "      <td>NaN</td>\n",
              "      <td>who ate what ?</td>\n",
              "    </tr>\n",
              "    <tr>\n",
              "      <th>7164</th>\n",
              "      <td>sks13</td>\n",
              "      <td>1</td>\n",
              "      <td>NaN</td>\n",
              "      <td>this girl in the red coat will eat her breakfa...</td>\n",
              "    </tr>\n",
              "    <tr>\n",
              "      <th>5121</th>\n",
              "      <td>ks08</td>\n",
              "      <td>1</td>\n",
              "      <td>NaN</td>\n",
              "      <td>he put the money where lee told him to put it .</td>\n",
              "    </tr>\n",
              "    <tr>\n",
              "      <th>228</th>\n",
              "      <td>cj99</td>\n",
              "      <td>1</td>\n",
              "      <td>NaN</td>\n",
              "      <td>once janet left , fred became far crazier .</td>\n",
              "    </tr>\n",
              "    <tr>\n",
              "      <th>4511</th>\n",
              "      <td>ks08</td>\n",
              "      <td>1</td>\n",
              "      <td>NaN</td>\n",
              "      <td>are you studying english syntax ?</td>\n",
              "    </tr>\n",
              "    <tr>\n",
              "      <th>741</th>\n",
              "      <td>bc01</td>\n",
              "      <td>0</td>\n",
              "      <td>*</td>\n",
              "      <td>he impresses his friends all as pompous .</td>\n",
              "    </tr>\n",
              "    <tr>\n",
              "      <th>2713</th>\n",
              "      <td>l-93</td>\n",
              "      <td>1</td>\n",
              "      <td>NaN</td>\n",
              "      <td>nora pushed on the chair .</td>\n",
              "    </tr>\n",
              "  </tbody>\n",
              "</table>\n",
              "</div>"
            ],
            "text/plain": [
              "     sentence_source  ...                                           sentence\n",
              "7787            ad03  ...               we believed him to be the headmaster\n",
              "4570            ks08  ...  a medal was been given to the mayor by the sew...\n",
              "308             cj99  ...  this is the problem that you 'll beat the comp...\n",
              "1321            r-67  ...                                     who ate what ?\n",
              "7164           sks13  ...  this girl in the red coat will eat her breakfa...\n",
              "5121            ks08  ...    he put the money where lee told him to put it .\n",
              "228             cj99  ...        once janet left , fred became far crazier .\n",
              "4511            ks08  ...                  are you studying english syntax ?\n",
              "741             bc01  ...          he impresses his friends all as pompous .\n",
              "2713            l-93  ...                         nora pushed on the chair .\n",
              "\n",
              "[10 rows x 4 columns]"
            ]
          },
          "metadata": {
            "tags": []
          },
          "execution_count": 59
        }
      ]
    },
    {
      "cell_type": "code",
      "metadata": {
        "id": "UtQ9-bsheoxj",
        "colab_type": "code",
        "colab": {}
      },
      "source": [
        "# Create sentence and label lists\n",
        "sentences = df.sentence.values\n",
        "\n",
        "# We need to add special tokens at the beginning and end of each sentence for BERT to work properly\n",
        "sentences = [\"[CLS] \" + sentence + \" [SEP]\" for sentence in sentences]\n",
        "labels = df.label.values"
      ],
      "execution_count": 0,
      "outputs": []
    },
    {
      "cell_type": "code",
      "metadata": {
        "id": "Lzo_5W38e2OX",
        "colab_type": "code",
        "colab": {
          "base_uri": "https://localhost:8080/",
          "height": 1000
        },
        "outputId": "367ed5fe-2247-49d5-945b-f373ea4ad25a"
      },
      "source": [
        "sentences"
      ],
      "execution_count": 61,
      "outputs": [
        {
          "output_type": "execute_result",
          "data": {
            "text/plain": [
              "[\"[CLS] our friends wo n't buy this analysis , let alone the next one we propose . [SEP]\",\n",
              " \"[CLS] one more pseudo generalization and i 'm giving up . [SEP]\",\n",
              " \"[CLS] one more pseudo generalization or i 'm giving up . [SEP]\",\n",
              " '[CLS] the more we study verbs , the crazier they get . [SEP]',\n",
              " '[CLS] day by day the facts are getting murkier . [SEP]',\n",
              " \"[CLS] i 'll fix you a drink . [SEP]\",\n",
              " '[CLS] fred watered the plants flat . [SEP]',\n",
              " '[CLS] bill coughed his way out of the restaurant . [SEP]',\n",
              " \"[CLS] we 're dancing the night away . [SEP]\",\n",
              " '[CLS] herman hammered the metal flat . [SEP]',\n",
              " '[CLS] the critics laughed the play off the stage . [SEP]',\n",
              " '[CLS] the pond froze solid . [SEP]',\n",
              " '[CLS] bill rolled out of the room . [SEP]',\n",
              " '[CLS] the gardener watered the flowers flat . [SEP]',\n",
              " '[CLS] the gardener watered the flowers . [SEP]',\n",
              " '[CLS] bill broke the bathtub into pieces . [SEP]',\n",
              " '[CLS] bill broke the bathtub . [SEP]',\n",
              " '[CLS] they drank the pub dry . [SEP]',\n",
              " '[CLS] they drank the pub . [SEP]',\n",
              " '[CLS] the professor talked us into a stupor . [SEP]',\n",
              " '[CLS] the professor talked us . [SEP]',\n",
              " '[CLS] we yelled ourselves hoarse . [SEP]',\n",
              " '[CLS] we yelled ourselves . [SEP]',\n",
              " '[CLS] we yelled harry hoarse . [SEP]',\n",
              " '[CLS] harry coughed himself into a fit . [SEP]',\n",
              " '[CLS] harry coughed himself . [SEP]',\n",
              " '[CLS] harry coughed us into a fit . [SEP]',\n",
              " '[CLS] bill followed the road into the forest . [SEP]',\n",
              " '[CLS] we drove highway 5 from sd to sf . [SEP]',\n",
              " '[CLS] fred tracked the leak to its source . [SEP]',\n",
              " '[CLS] john danced waltzes across the room . [SEP]',\n",
              " '[CLS] bill urinated out the window . [SEP]',\n",
              " '[CLS] bill coughed out the window . [SEP]',\n",
              " '[CLS] bill bled on the floor . [SEP]',\n",
              " '[CLS] the toilet leaked through the floor into the kitchen below . [SEP]',\n",
              " '[CLS] bill ate off the floor . [SEP]',\n",
              " '[CLS] bill drank from the hose . [SEP]',\n",
              " '[CLS] this metal hammers flat easily . [SEP]',\n",
              " '[CLS] they made him president . [SEP]',\n",
              " '[CLS] they made him angry . [SEP]',\n",
              " '[CLS] they caused him to become angry by making him . [SEP]',\n",
              " '[CLS] they caused him to become president by making him . [SEP]',\n",
              " '[CLS] they made him to exhaustion . [SEP]',\n",
              " '[CLS] they made him into a monster . [SEP]',\n",
              " '[CLS] the trolley rumbled through the tunnel . [SEP]',\n",
              " '[CLS] the wagon rumbled down the road . [SEP]',\n",
              " '[CLS] the bullets whistled past the house . [SEP]',\n",
              " '[CLS] the knee replacement candidate groaned up the stairs . [SEP]',\n",
              " '[CLS] the car honked down the road . [SEP]',\n",
              " '[CLS] the dog barked out of the room . [SEP]',\n",
              " '[CLS] the dog barked its way out of the room . [SEP]',\n",
              " '[CLS] bill whistled his way past the house . [SEP]',\n",
              " '[CLS] the witch vanished into the forest . [SEP]',\n",
              " '[CLS] bill disappeared down the road . [SEP]',\n",
              " '[CLS] the witch went into the forest by vanishing . [SEP]',\n",
              " '[CLS] the witch went into the forest and thereby vanished . [SEP]',\n",
              " '[CLS] the building is tall and wide . [SEP]',\n",
              " '[CLS] the building is tall and tall . [SEP]',\n",
              " '[CLS] this building is taller and wider than that one . [SEP]',\n",
              " '[CLS] this building got taller and wider than that one . [SEP]',\n",
              " '[CLS] this building got taller and taller . [SEP]',\n",
              " '[CLS] this building is taller and taller . [SEP]',\n",
              " '[CLS] this building got than that one . [SEP]',\n",
              " '[CLS] this building is than that one . [SEP]',\n",
              " '[CLS] bill floated into the cave . [SEP]',\n",
              " '[CLS] bill floated into the cave for hours . [SEP]',\n",
              " '[CLS] bill pushed harry off the sofa for hours . [SEP]',\n",
              " '[CLS] bill floated down the river for hours . [SEP]',\n",
              " '[CLS] bill floated down the river . [SEP]',\n",
              " '[CLS] bill pushed harry along the trail for hours . [SEP]',\n",
              " '[CLS] bill pushed harry along the trail . [SEP]',\n",
              " '[CLS] the road zigzagged down the hill . [SEP]',\n",
              " '[CLS] the rope stretched over the pulley . [SEP]',\n",
              " '[CLS] the weights stretched the rope over the pulley . [SEP]',\n",
              " '[CLS] the weights kept the rope stretched over the pulley . [SEP]',\n",
              " '[CLS] sam cut himself free . [SEP]',\n",
              " '[CLS] sam got free by cutting his finger . [SEP]',\n",
              " '[CLS] bill cried himself to sleep . [SEP]',\n",
              " '[CLS] bill cried sue to sleep . [SEP]',\n",
              " '[CLS] bill squeezed himself through the hole . [SEP]',\n",
              " '[CLS] bill sang himself to sleep . [SEP]',\n",
              " '[CLS] bill squeezed the puppet through the hole . [SEP]',\n",
              " '[CLS] bill sang sue to sleep . [SEP]',\n",
              " '[CLS] the elevator rumbled itself to the ground . [SEP]',\n",
              " '[CLS] if the telephone rang , it could ring itself silly . [SEP]',\n",
              " '[CLS] she yelled hoarse . [SEP]',\n",
              " '[CLS] ted cried to sleep . [SEP]',\n",
              " '[CLS] the tiger bled to death . [SEP]',\n",
              " '[CLS] he coughed awake and we were all overjoyed , especially sierra . [SEP]',\n",
              " '[CLS] john coughed awake , rubbing his nose and cursing under his breath . [SEP]',\n",
              " '[CLS] john coughed himself awake on the bank of the lake where he and bill had their play . [SEP]',\n",
              " '[CLS] ron yawned himself awake . [SEP]',\n",
              " '[CLS] she coughed herself awake as the leaf landed on her nose . [SEP]',\n",
              " '[CLS] the worm wriggled onto the carpet . [SEP]',\n",
              " '[CLS] the chocolate melted onto the carpet . [SEP]',\n",
              " '[CLS] the ball wriggled itself loose . [SEP]',\n",
              " '[CLS] bill wriggled himself loose . [SEP]',\n",
              " '[CLS] aliza wriggled her tooth loose . [SEP]',\n",
              " '[CLS] the off center spinning flywheel shook itself loose . [SEP]',\n",
              " '[CLS] the more you eat , the less you want . [SEP]',\n",
              " '[CLS] if you eat more , you want correspondingly less . [SEP]',\n",
              " '[CLS] when you eat more , you want correspondingly less . [SEP]',\n",
              " '[CLS] as you eat more , you want correspondingly less . [SEP]',\n",
              " '[CLS] the most you want , the least you eat . [SEP]',\n",
              " '[CLS] the angrier sue gets , the more fred admires her . [SEP]',\n",
              " '[CLS] the more that you eat , the less that you want . [SEP]',\n",
              " '[CLS] the angrier that sue gets , the more that fred admires her . [SEP]',\n",
              " '[CLS] i think that the more you eat , the less you want . [SEP]',\n",
              " \"[CLS] i 'm not shocked by the idea that the more you eat , the less you want . [SEP]\",\n",
              " '[CLS] it is obvious that the more you eat , the less you want . [SEP]',\n",
              " '[CLS] it is not entirely clear if the more you eat , the less you want . [SEP]',\n",
              " '[CLS] i want to explain exactly why the more you eat , the less you want . [SEP]',\n",
              " '[CLS] i demand that the more john eats , the more he pays . [SEP]',\n",
              " '[CLS] i demand that the more john eat , the more he pay . [SEP]',\n",
              " '[CLS] i demand that john pay more , the more he eats . [SEP]',\n",
              " '[CLS] i demand that john pays more , the more he eat . [SEP]',\n",
              " \"[CLS] you get angrier , the more we eat , do n't you . [SEP]\",\n",
              " \"[CLS] you get angrier , the more we eat , do n't we . [SEP]\",\n",
              " '[CLS] the harder it has rained , how much faster a flow that appears in the river ? [SEP]',\n",
              " '[CLS] the harder it has rained , how much faster a flow appears in the river ? [SEP]',\n",
              " '[CLS] the harder it rains , how much faster that do you run ? [SEP]',\n",
              " '[CLS] the harder it rains , how much faster do you run ? [SEP]',\n",
              " '[CLS] the harder it rains , how much faster a flow do you see in the river ? [SEP]',\n",
              " '[CLS] the harder it rains , how much faster a flow that do you see in the river ? [SEP]',\n",
              " '[CLS] when it rains harder , how much faster a flow appears in the river ? [SEP]',\n",
              " '[CLS] as it rains harder , how much faster a flow appears in the river ? [SEP]',\n",
              " '[CLS] as it rains harder , how much faster a flow that appears in the river ? [SEP]',\n",
              " '[CLS] when it rains harder , how much faster a flow that appears in the river ? [SEP]',\n",
              " '[CLS] how much harder has it rained , the faster a flow you see in the river ? [SEP]',\n",
              " '[CLS] how much harder has it rained , when you see a faster flow in the river ? [SEP]',\n",
              " '[CLS] the more john eats , the tighter keep your mouth shut about it . [SEP]',\n",
              " '[CLS] the more everyone eat , the more john keeps his big mouth shut about it , ok ? [SEP]',\n",
              " '[CLS] when john eats more , keep your mouth shut tighter , ok ? [SEP]',\n",
              " '[CLS] as john eats more , keep your mouth shut tighter , ok ? [SEP]',\n",
              " '[CLS] keep your mouth shut tighter , the more john eats , ok ? [SEP]',\n",
              " '[CLS] everyone keep your mouth shut tighter , the more john eats , ok ? [SEP]',\n",
              " '[CLS] i can well imagine the more him eating , the fatter him getting . [SEP]',\n",
              " '[CLS] bill can well imagine getting fat . [SEP]',\n",
              " '[CLS] bill can well imagine the more he eats , the fatter getting . [SEP]',\n",
              " '[CLS] fred can well imagine joe getting fatter , the more he eats . [SEP]',\n",
              " '[CLS] it is important the more you eat , the more careful to be . [SEP]',\n",
              " '[CLS] it is important for the more you eat , the more careful to be . [SEP]',\n",
              " '[CLS] it is important the more you to eat , the more careful to be . [SEP]',\n",
              " '[CLS] it is important the more you eat , the more careful you to be . [SEP]',\n",
              " '[CLS] it is important the more you eat , the more careful for you to be . [SEP]',\n",
              " '[CLS] it is important for the more you to eat , the more careful to be . [SEP]',\n",
              " '[CLS] it is important for the more you to eat , the more careful for you to be . [SEP]',\n",
              " '[CLS] it is important the more you to eat , the more careful for you to be . [SEP]',\n",
              " '[CLS] it is important for the more you eat , the more careful you to be . [SEP]',\n",
              " '[CLS] it is important for you to be more careful , the more you eat . [SEP]',\n",
              " '[CLS] it is important to be more careful , the more you eat . [SEP]',\n",
              " '[CLS] i can well imagine quickly mary answering the question . [SEP]',\n",
              " '[CLS] i can well imagine with a hatchet mary destroying the jeep . [SEP]',\n",
              " '[CLS] i can well imagine if he eats more , him getting fat . [SEP]',\n",
              " '[CLS] it is not entirely obvious if , mary listens to the grateful dead , she gets depressed . [SEP]',\n",
              " '[CLS] it is not entirely obvious whether , mary listens to the grateful dead , she gets depressed . [SEP]',\n",
              " '[CLS] mary listens to the grateful dead and she gets depressed . [SEP]',\n",
              " '[CLS] if mary listens to the grateful dead , she gets depressed . [SEP]',\n",
              " '[CLS] when mary listens to the grateful dead , she gets depressed . [SEP]',\n",
              " '[CLS] mary gets depressed if she listens to the grateful dead . [SEP]',\n",
              " '[CLS] mary gets depressed when she listens to the grateful dead . [SEP]',\n",
              " '[CLS] the more she looked at pictures , the angrier mary got . [SEP]',\n",
              " '[CLS] the more pictures mary looked at , she got angrier and angrier . [SEP]',\n",
              " '[CLS] mary gets depressed and she listens to the grateful dead . [SEP]',\n",
              " '[CLS] the higher the stakes are , the lower his expectations are . [SEP]',\n",
              " '[CLS] the higher the stakes , the lower his expectations . [SEP]',\n",
              " '[CLS] his expectations are lower , the higher the stakes . [SEP]',\n",
              " '[CLS] his expectations are lower , the higher the stakes are . [SEP]',\n",
              " '[CLS] his expectations lower , the higher the stakes . [SEP]',\n",
              " '[CLS] his expectations lower , the higher the stakes are . [SEP]',\n",
              " '[CLS] the more obnoxious fred is , the less attention you should pay to him . [SEP]',\n",
              " '[CLS] the more obnoxious fred , the less attention you should pay to him . [SEP]',\n",
              " '[CLS] the more fred is obnoxious , the less you should pay attention to him . [SEP]',\n",
              " '[CLS] the more obnoxious fred , the less you should pay attention to him . [SEP]',\n",
              " '[CLS] his expectations are always lower than mine . [SEP]',\n",
              " '[CLS] john was lots more obnoxious than fred was . [SEP]',\n",
              " '[CLS] you should always lock your door , no matter how fancy the hotel might be . [SEP]',\n",
              " '[CLS] you should always lock your door , no matter how fancy the hotel . [SEP]',\n",
              " \"[CLS] i do n't plan to lock the door , no matter how fancy this hotel is . [SEP]\",\n",
              " \"[CLS] i do n't plan to lock the door , no matter how fancy this hotel . [SEP]\",\n",
              " \"[CLS] i 'm going out , whatever the weather . [SEP]\",\n",
              " \"[CLS] i 'm going out , wherever that hurricane might be . [SEP]\",\n",
              " \"[CLS] i 'm going out , wherever that hurricane . [SEP]\",\n",
              " '[CLS] the more examples mary says that bill has helped fred to discover the less i believe her . [SEP]',\n",
              " '[CLS] the more food mary knows a man that eats the poorer she gets . [SEP]',\n",
              " '[CLS] the fatter he goes to a doctor when he gets the more he eats . [SEP]',\n",
              " '[CLS] the fatter that that he gets bothers him , the more he eats . [SEP]',\n",
              " '[CLS] the more books i ask to whom he will give , the more he reads . [SEP]',\n",
              " '[CLS] the more people i ask what he will give to the more he reads . [SEP]',\n",
              " \"[CLS] the more carefully he words the letter the safer he 'll be . [SEP]\",\n",
              " \"[CLS] the more carefully he knows a man that worded the letter the safer he 'll be . [SEP]\",\n",
              " '[CLS] the more geniuses john meets , the angrier he gets . [SEP]',\n",
              " '[CLS] the more john meets geniuses , the angrier he gets . [SEP]',\n",
              " \"[CLS] the more people you say will buy tickets , the happier i 'll be . [SEP]\",\n",
              " \"[CLS] the more people you say that will buy tickets , the happier i 'll be . [SEP]\",\n",
              " \"[CLS] the more people you say that right after the show opens will buy tickets , the happier i 'll be . [SEP]\",\n",
              " '[CLS] the more i talk to joe , the less about linguistics i am inclined to think sally has taught him to appreciate . [SEP]',\n",
              " '[CLS] the more he eats , the poorer he knows a woman that gets . [SEP]',\n",
              " '[CLS] the more he eats , the fatter he goes to a doctor when he gets . [SEP]',\n",
              " '[CLS] the more he eats , the fatter that that he gets really bothers me . [SEP]',\n",
              " '[CLS] the more he reads , the more books i wonder to whom he will give . [SEP]',\n",
              " '[CLS] the more he reads , the more people i wonder what he will give to . [SEP]',\n",
              " '[CLS] the sooner you call , the more carefully i know a man that will word the letter . [SEP]',\n",
              " '[CLS] the richer john gets , the more geniuses john meets . [SEP]',\n",
              " '[CLS] the richer he gets , the more john meets geniuses . [SEP]',\n",
              " '[CLS] the more articles he reads , the fewer people he thinks will go into linguistics . [SEP]',\n",
              " '[CLS] the more articles he reads , the fewer people he thinks that will go into linguistics . [SEP]',\n",
              " '[CLS] the more articles he reads , the fewer people he thinks that under the current circumstances will go into linguistics . [SEP]',\n",
              " '[CLS] the more articles he reads , the fewer people he thinks under the current circumstances will go into linguistics . [SEP]',\n",
              " '[CLS] the more people that arrive , the louder that it gets . [SEP]',\n",
              " '[CLS] the more people that arrive , the louder it gets . [SEP]',\n",
              " '[CLS] the more people you give beer to , the more people that get sick . [SEP]',\n",
              " '[CLS] the more people that you give beer to , the more people that get sick . [SEP]',\n",
              " '[CLS] the more people arrive , the louder that it gets . [SEP]',\n",
              " '[CLS] the more people arrive , the louder it gets . [SEP]',\n",
              " '[CLS] the more people that you give beer to , the more people get sick . [SEP]',\n",
              " '[CLS] the more pictures of john that he buys the more arrogant he becomes . [SEP]',\n",
              " '[CLS] the more pictures of himself that john buys the more arrogant he becomes . [SEP]',\n",
              " '[CLS] the man that arrived on the train was my brother . [SEP]',\n",
              " '[CLS] the man arrived on the train was my brother . [SEP]',\n",
              " '[CLS] the more people everyone who likes pays attention to , the happier we all are . [SEP]',\n",
              " '[CLS] the later it gets , the more people everyone who likes pays attention to . [SEP]',\n",
              " '[CLS] whenever bill smokes , susan hates him all the more . [SEP]',\n",
              " '[CLS] whenever bill smokes , susan hates him much more . [SEP]',\n",
              " '[CLS] whenever bill smokes , susan hates him far more . [SEP]',\n",
              " '[CLS] whenever bill smokes , susan hates him a lot more . [SEP]',\n",
              " '[CLS] once janet left , fred became all the crazier . [SEP]',\n",
              " '[CLS] once janet left , fred became much crazier . [SEP]',\n",
              " '[CLS] once janet left , fred became far crazier . [SEP]',\n",
              " '[CLS] fred became all the crazier , the more often janet left . [SEP]',\n",
              " '[CLS] when bill smokes , all the more does susan hate him . [SEP]',\n",
              " '[CLS] when bill smokes , much more does susan hate him . [SEP]',\n",
              " '[CLS] when bill smokes , all the more susan hates him . [SEP]',\n",
              " '[CLS] so much did you eat that everyone gasped . [SEP]',\n",
              " '[CLS] so fast did you run that everyone gasped . [SEP]',\n",
              " '[CLS] so intelligent a dog did you buy that everyone gasped . [SEP]',\n",
              " '[CLS] i know how much you ate . [SEP]',\n",
              " '[CLS] i know how fast you ran . [SEP]',\n",
              " '[CLS] i know how intelligent a dog you bought . [SEP]',\n",
              " '[CLS] he ate so much that he got sick . [SEP]',\n",
              " '[CLS] so much did he eat that he got sick . [SEP]',\n",
              " '[CLS] the more you eat , the more you want . [SEP]',\n",
              " '[CLS] you eat the more , the more you want . [SEP]',\n",
              " '[CLS] the more you eat , you want the more . [SEP]',\n",
              " '[CLS] i wonder you ate how much . [SEP]',\n",
              " '[CLS] i wonder to how many people bill talks . [SEP]',\n",
              " '[CLS] the longer he has to wait , the angrier john gets . [SEP]',\n",
              " '[CLS] if he has to wait , john gets angry . [SEP]',\n",
              " '[CLS] he gets angry , the longer john has to wait . [SEP]',\n",
              " '[CLS] he gets angry if john has to wait . [SEP]',\n",
              " '[CLS] the more that pictures of him appear in the news , the more embarrassed john becomes . [SEP]',\n",
              " '[CLS] the more pictures of himself that appear in the news , the more embarrassed john becomes . [SEP]',\n",
              " '[CLS] the more that pictures of himself appear in the news , the more embarrassed john becomes . [SEP]',\n",
              " '[CLS] the more pictures of him appear in the news , the more likely john is to get arrested . [SEP]',\n",
              " '[CLS] the more pictures of himself appear in the news , the more likely john is to get arrested . [SEP]',\n",
              " '[CLS] the more that pictures of him appear in the news , the more likely john is to get arrested . [SEP]',\n",
              " '[CLS] the more that pictures of himself appear in the news , the more likely john is to get arrested . [SEP]',\n",
              " '[CLS] the more that john gets upset by them , the more that stories about him seem to show up in the news . [SEP]',\n",
              " '[CLS] the more that john gets upset by them , the more that stories about himself seem to show up in the news . [SEP]',\n",
              " '[CLS] john is more embarrassed , the more pictures of him appear in the news . [SEP]',\n",
              " '[CLS] john is more embarrassed , the more pictures of him that appear in the news . [SEP]',\n",
              " '[CLS] john is more embarrassed , the more pictures of himself appear in the news . [SEP]',\n",
              " '[CLS] john is more embarrassed , the more pictures of himself that appear in the news . [SEP]',\n",
              " '[CLS] stories about him seem to show up more on the evening news , the more that john gets upset by them . [SEP]',\n",
              " '[CLS] stories about himself seem to show up more on the evening news , the more that john gets upset by them . [SEP]',\n",
              " '[CLS] if you give him enough opportunity , every senator will succumb to corruption . [SEP]',\n",
              " '[CLS] you give him enough opportunity and every senator will succumb to corruption . [SEP]',\n",
              " '[CLS] we gave him enough opportunity and , sure enough , every senator succumbed to corruption . [SEP]',\n",
              " '[CLS] if you give any senator enough opportunity , he will succumb to corruption . [SEP]',\n",
              " '[CLS] you give any senator enough opportunity and he will succumb to corruption . [SEP]',\n",
              " '[CLS] you give every senator enough opportunity and he will succumb to corruption . [SEP]',\n",
              " '[CLS] we gave any senator enough opportunity and , sure enough , he succumbed to corruption . [SEP]',\n",
              " '[CLS] we gave every senator enough opportunity and , sure enough , he succumbed to corruption . [SEP]',\n",
              " '[CLS] the more lobbyists he talks to , the more corrupt every senator seems to become . [SEP]',\n",
              " '[CLS] the more lobbyists wine and dine him , the more every senator is susceptible to corruption . [SEP]',\n",
              " '[CLS] the more time that every senator spends with lobbyists , the more likely he succumbs to corruption . [SEP]',\n",
              " '[CLS] every senator becomes more corrupt , the more lobbyists he talks to . [SEP]',\n",
              " '[CLS] any senator becomes more corrupt , the more lobbyists he talks to . [SEP]',\n",
              " '[CLS] he seems to become more corrupt , the more lobbyists any senator talks to . [SEP]',\n",
              " '[CLS] he seems to become more corrupt , the more lobbyists every senator talks to . [SEP]',\n",
              " '[CLS] every senator seems to become more corrupt , if he talks to more lobbyists . [SEP]',\n",
              " '[CLS] any senator seems to become more corrupt , if he talks to more lobbyists . [SEP]',\n",
              " '[CLS] any senator seems to become more corrupt , as he talks to more lobbyists . [SEP]',\n",
              " '[CLS] he seems to become more corrupt , if any senator talks to more lobbyists . [SEP]',\n",
              " '[CLS] he seems to become more corrupt , if every senator talks to more lobbyists . [SEP]',\n",
              " '[CLS] he seems to become more corrupt , as every senator talks to more lobbyists . [SEP]',\n",
              " '[CLS] he seems to become more corrupt , as any senator talks to more lobbyists . [SEP]',\n",
              " \"[CLS] the sooner you solve this problem , the more easily you 'll satisfy the folks up at corporate headquarters . [SEP]\",\n",
              " \"[CLS] this is the sort of problem which the sooner you solve the more easily you 'll satisfy the folks up at corporate headquarters . [SEP]\",\n",
              " \"[CLS] the folks up at corporate headquarters are the sort of people who the sooner you solve this problem , the more easily you 'll satisfy . [SEP]\",\n",
              " \"[CLS] this problem , the sooner you solve the more easily you 'll satisfy the folks up at corporate headquarters . [SEP]\",\n",
              " '[CLS] who did you give pictures of to friends of ? [SEP]',\n",
              " \"[CLS] it is this problem that the sooner you solve the more easily you 'll satisfy the folks up at corporate headquarters . [SEP]\",\n",
              " \"[CLS] it is the folks up at corporate headquarters who the sooner you solve this problem , the more easily you 'll satisfy . [SEP]\",\n",
              " '[CLS] which problem the sooner you solve , will the more easily you satisfy the folks up at corporate headquarters ? [SEP]',\n",
              " \"[CLS] which problem does the sooner that you solve , the more easily you 'll satisfy the folks up at corporate headquarters ? [SEP]\",\n",
              " '[CLS] which problem the sooner that you solve , will the more easily you satisfy the folks up at corporate headquarters ? [SEP]',\n",
              " '[CLS] the harder it rains , the faster who runs ? [SEP]',\n",
              " '[CLS] the louder who talks , the angrier you get ? [SEP]',\n",
              " '[CLS] the harder that it rains , how much faster a flow do you see in the river ? [SEP]',\n",
              " '[CLS] they failed to tell me which problem the sooner i solve , the quicker the folks up at corporate headquarters . [SEP]',\n",
              " \"[CLS] i finally worked up enough courage to ask which people up at corporate headquarters the sooner i solve this problem , the quicker i 'll get free of . [SEP]\",\n",
              " \"[CLS] which folks up at corporate headquarters do you think that the sooner you solve this problem , the quicker you 'll be able to tell t to buzz off ? [SEP]\",\n",
              " \"[CLS] this is a problem that you 'll be able to tell the folks up at corporate headquarters to buzz off if you solve . [SEP]\",\n",
              " \"[CLS] this is a problem that you 'll be able to tell the folks up at corporate headquarters to buzz off if you solve it . [SEP]\",\n",
              " \"[CLS] this is a problem that you solve it and you 'll be able to tell the folks up at corporate headquarters to buzz off . [SEP]\",\n",
              " \"[CLS] those are the folks that you just solve this problem and you 'll be able to put them on ice . [SEP]\",\n",
              " \"[CLS] they failed to tell me which problem i 'll beat the competition more easily , the sooner i solve . [SEP]\",\n",
              " \"[CLS] this is the problem that you 'll beat the competition more easily , the sooner you solve . [SEP]\",\n",
              " '[CLS] john saw the man in the room . [SEP]',\n",
              " '[CLS] which room did john see the man in ? [SEP]',\n",
              " '[CLS] who did john think that bill claimed that mary suspected that everybody liked ? [SEP]',\n",
              " '[CLS] john could not visit sally . [SEP]',\n",
              " '[CLS] what john could do is not visit sally . [SEP]',\n",
              " \"[CLS] john could n't visit sally . [SEP]\",\n",
              " '[CLS] why did john leave ? [SEP]',\n",
              " '[CLS] i hit the ball . [SEP]',\n",
              " '[CLS] you hit the ball . [SEP]',\n",
              " '[CLS] he hit the ball . [SEP]',\n",
              " '[CLS] she hit the ball . [SEP]',\n",
              " '[CLS] they hit the ball . [SEP]',\n",
              " '[CLS] am not i going ? [SEP]',\n",
              " '[CLS] i am not going . [SEP]',\n",
              " \"[CLS] are n't i going ? [SEP]\",\n",
              " \"[CLS] i are n't going . [SEP]\",\n",
              " \"[CLS] louise is unhappy , is n't she ? [SEP]\",\n",
              " \"[CLS] louise likes not being happy , does n't she ? [SEP]\",\n",
              " '[CLS] not many books survived the fire , did they ? [SEP]',\n",
              " '[CLS] no books survived the fire , did they ? [SEP]',\n",
              " \"[CLS] he has n't often paid taxes , has he ? [SEP]\",\n",
              " \"[CLS] he ca n't pay taxes , can he ? [SEP]\",\n",
              " '[CLS] she does not see him . [SEP]',\n",
              " '[CLS] she kept not seeing him . [SEP]',\n",
              " '[CLS] she could not have been working . [SEP]',\n",
              " '[CLS] marianne not left . [SEP]',\n",
              " '[CLS] marianne left not . [SEP]',\n",
              " '[CLS] he could not have been working . [SEP]',\n",
              " '[CLS] he can not have been working . [SEP]',\n",
              " '[CLS] he can simply not have been working . [SEP]',\n",
              " '[CLS] you must not simply not work . [SEP]',\n",
              " '[CLS] he may not just not have been working . [SEP]',\n",
              " \"[CLS] he ca n't have been working . [SEP]\",\n",
              " \"[CLS] ca n't he have been working ? [SEP]\",\n",
              " '[CLS] can he not have been working ? [SEP]',\n",
              " '[CLS] can he not have been working ? [SEP]',\n",
              " '[CLS] john wrote books . [SEP]',\n",
              " '[CLS] john write books . [SEP]',\n",
              " '[CLS] john wrote books . [SEP]',\n",
              " '[CLS] john did not write books . [SEP]',\n",
              " '[CLS] john seems that is nice . [SEP]',\n",
              " \"[CLS] `` i am so happy '' , thought john . [SEP]\",\n",
              " '[CLS] down the hill rolled john . [SEP]',\n",
              " '[CLS] john kisses often mary . [SEP]',\n",
              " '[CLS] john often kisses mary . [SEP]',\n",
              " '[CLS] who do you think mary said john likes ? [SEP]',\n",
              " '[CLS] who did you ask whether mary knows why john likes ? [SEP]',\n",
              " '[CLS] who do you think that mary said that john likes ? [SEP]',\n",
              " '[CLS] how do you wonder whether mary solved the problem ? [SEP]',\n",
              " '[CLS] how do you think that mary solved the problem ? [SEP]',\n",
              " '[CLS] how do you wonder whether john said that mary solved the problem ? [SEP]',\n",
              " '[CLS] how do you wonder whether john said mary solved the problem ? [SEP]',\n",
              " '[CLS] which problem do you wonder whether john said that mary solved ? [SEP]',\n",
              " '[CLS] how did you think that mary solved the problem ? [SEP]',\n",
              " '[CLS] mary hired someone . [SEP]',\n",
              " '[CLS] i heard that mary hired someone . [SEP]',\n",
              " '[CLS] i resigned because mary hired someone . [SEP]',\n",
              " '[CLS] mary wondered which picture of himself bill saw ? [SEP]',\n",
              " '[CLS] which picture of himself does mary think that john said that susan likes ? [SEP]',\n",
              " '[CLS] mary thinks that john said that susan likes pictures of himself ? [SEP]',\n",
              " '[CLS] mary thinks that john said that pictures of himself , susan likes ? [SEP]',\n",
              " \"[CLS] if you do n't believe me , you will the weatherman ? [SEP]\",\n",
              " '[CLS] i rolled up a newspaper , and lynn did a magazine ? [SEP]',\n",
              " \"[CLS] kathy likes astronomy , but she does n't meteorology ? [SEP]\",\n",
              " '[CLS] the da proved jones guilty and the assistant da will prove smith . [SEP]',\n",
              " '[CLS] mary will believe susan , and you will bob . [SEP]',\n",
              " '[CLS] you might not believe me but you will bob . [SEP]',\n",
              " '[CLS] you will bob believe . [SEP]',\n",
              " '[CLS] how did you solve the problem ? [SEP]',\n",
              " '[CLS] i wonder who could solve the problem in this way . [SEP]',\n",
              " '[CLS] how do you wonder who could solve this problem . [SEP]',\n",
              " '[CLS] no candidate can predict how many people will vote for him . [SEP]',\n",
              " '[CLS] every politician is worried when the press starts attacking him . [SEP]',\n",
              " '[CLS] which politician appointed the journalist who supported him ? [SEP]',\n",
              " '[CLS] the fact that no candidate was elected shows that he was inadequate . [SEP]',\n",
              " '[CLS] john sells books , mary buys records and bill v newspapers . [SEP]',\n",
              " '[CLS] the question of whether john met mary worries the people who support . [SEP]',\n",
              " '[CLS] they have left . [SEP]',\n",
              " '[CLS] have they left ? [SEP]',\n",
              " '[CLS] could they have left ? [SEP]',\n",
              " '[CLS] he has often seen mary . [SEP]',\n",
              " '[CLS] he i often sees mary . [SEP]',\n",
              " '[CLS] he sees often mary . [SEP]',\n",
              " '[CLS] sees he i often mary ? [SEP]',\n",
              " '[CLS] it seems that it is likely that john will win . [SEP]',\n",
              " '[CLS] it seems that john is likely to win . [SEP]',\n",
              " '[CLS] john seems to be likely to win . [SEP]',\n",
              " '[CLS] john seems that it is likely to win . [SEP]',\n",
              " '[CLS] john seems will win . [SEP]',\n",
              " '[CLS] how do you wonder which problem to solve ? [SEP]',\n",
              " '[CLS] how intelligent do you consider john ? [SEP]',\n",
              " '[CLS] how many people do you wonder whether i consider intelligent ? [SEP]',\n",
              " '[CLS] how intelligent do you wonder whether i consider john ? [SEP]',\n",
              " '[CLS] what the hell do you wonder how to say ? [SEP]',\n",
              " '[CLS] he has left . [SEP]',\n",
              " '[CLS] his book is nice . [SEP]',\n",
              " '[CLS] bill saw him . [SEP]',\n",
              " '[CLS] bill works with him . [SEP]',\n",
              " '[CLS] john believes him to be a nice guy . [SEP]',\n",
              " '[CLS] john considers him a nice guy . [SEP]',\n",
              " '[CLS] for him to do that would be a mistake . [SEP]',\n",
              " '[CLS] with him sick , the team is in trouble . [SEP]',\n",
              " '[CLS] a man to be in the garden is unlikely . [SEP]',\n",
              " '[CLS] a man to come is unlikely . [SEP]',\n",
              " '[CLS] john to call would be unlikely . [SEP]',\n",
              " '[CLS] this conclusion to be arrived at is surprising . [SEP]',\n",
              " '[CLS] john believes that he is sick . [SEP]',\n",
              " '[CLS] john believes that him is sick . [SEP]',\n",
              " '[CLS] john tries him to win . [SEP]',\n",
              " '[CLS] john wonders where him to go . [SEP]',\n",
              " '[CLS] who do you think that bill likes ? [SEP]',\n",
              " '[CLS] who do you think that bill believes to be innocent ? [SEP]',\n",
              " '[CLS] who do you think that believes john to be innocent ? [SEP]',\n",
              " '[CLS] who would you prefer for to win the race ? [SEP]',\n",
              " '[CLS] someone stole my car . [SEP]',\n",
              " '[CLS] my car was stolen . [SEP]',\n",
              " '[CLS] the children eat all chocolate . [SEP]',\n",
              " '[CLS] john has often kissed mary . [SEP]',\n",
              " '[CLS] the kids have all eaten the chocolate . [SEP]',\n",
              " \"[CLS] in general , he understands what 's going on . [SEP]\",\n",
              " \"[CLS] it 's probable that in general he understands what 's going on . [SEP]\",\n",
              " \"[CLS] it 's probable in general that he understands what 's going on . [SEP]\",\n",
              " \"[CLS] in general that he understands what 's going on is surprising . [SEP]\",\n",
              " '[CLS] i explained how to fix the sink . [SEP]',\n",
              " '[CLS] i explained how we should fix the sink . [SEP]',\n",
              " '[CLS] i explained that we should fix the sink . [SEP]',\n",
              " '[CLS] i explained to fix the sink . [SEP]',\n",
              " '[CLS] mickey looked up the reference . [SEP]',\n",
              " '[CLS] mickey looked the reference up . [SEP]',\n",
              " '[CLS] mickey looked up them . [SEP]',\n",
              " '[CLS] mickey teamed up with the women . [SEP]',\n",
              " '[CLS] mickey teamed with the women up . [SEP]',\n",
              " '[CLS] mickey pointed out that gary had left . [SEP]',\n",
              " '[CLS] mickey pointed that gary had left out . [SEP]',\n",
              " '[CLS] mickey slips up all the time . [SEP]',\n",
              " '[CLS] mickey slips all the time up . [SEP]',\n",
              " '[CLS] what does john think mary bought ? [SEP]',\n",
              " '[CLS] john thinks what mary bought . [SEP]',\n",
              " '[CLS] john wonders what mary bought . [SEP]',\n",
              " '[CLS] what does john wonder mary bought ? [SEP]',\n",
              " '[CLS] who is he reading a book that criticizes ? [SEP]',\n",
              " '[CLS] what do you remember where we bought ? [SEP]',\n",
              " '[CLS] who bought what ? [SEP]',\n",
              " '[CLS] who is reading a book that criticizes who ? [SEP]',\n",
              " '[CLS] who remembers where we bought what ? [SEP]',\n",
              " '[CLS] i wonder who what bought ? [SEP]',\n",
              " '[CLS] i wonder what who bought ? [SEP]',\n",
              " \"[CLS] there are n't many linguistics students here . [SEP]\",\n",
              " \"[CLS] i have n't met many linguistics students . [SEP]\",\n",
              " '[CLS] what does every student buy ? [SEP]',\n",
              " '[CLS] i need sally to be there . [SEP]',\n",
              " '[CLS] the boat sank to collect the insurance . [SEP]',\n",
              " '[CLS] the boat was sunk to collect the insurance . [SEP]',\n",
              " '[CLS] john wants to win . [SEP]',\n",
              " '[CLS] the bed was unmade . [SEP]',\n",
              " '[CLS] headway was unmade . [SEP]',\n",
              " '[CLS] john was unknown . [SEP]',\n",
              " '[CLS] john was unknown to be the murderer . [SEP]',\n",
              " '[CLS] we knew john to be the murderer . [SEP]',\n",
              " '[CLS] he fed the children . [SEP]',\n",
              " '[CLS] the children were uneducated . [SEP]',\n",
              " '[CLS] the children were undisciplined . [SEP]',\n",
              " '[CLS] i believed these students all to like john . [SEP]',\n",
              " '[CLS] they tried to all like john . [SEP]',\n",
              " '[CLS] i believed these students to all like john . [SEP]',\n",
              " '[CLS] did he try ever to talk to the student ? [SEP]',\n",
              " '[CLS] did you believe him ever to have made an effort to talk to the student ? [SEP]',\n",
              " '[CLS] did he try to ever be attentive to the needs of students ? [SEP]',\n",
              " '[CLS] did you believe him to ever have made an effort to talk to the student ? [SEP]',\n",
              " '[CLS] work out an analysis that is typical of this view of understood subjects . [SEP]',\n",
              " '[CLS] they were believed all to be quite diligent . [SEP]',\n",
              " '[CLS] was he believed ever to fail students ? [SEP]',\n",
              " '[CLS] there is tending to be more and more discussion of these issues . [SEP]',\n",
              " '[CLS] john seemed to be a great linguist . [SEP]',\n",
              " '[CLS] there promises to be a storm tonight . [SEP]',\n",
              " '[CLS] john strived to be successful . [SEP]',\n",
              " '[CLS] john wanted to improve his lot in life . [SEP]',\n",
              " '[CLS] john expected to win . [SEP]',\n",
              " '[CLS] this book is too dense to be read in one sitting . [SEP]',\n",
              " '[CLS] there is too likely to be a riot to be a serious discussion of the issues . [SEP]',\n",
              " '[CLS] john tried . [SEP]',\n",
              " '[CLS] john remembered . [SEP]',\n",
              " '[CLS] john is refused . [SEP]',\n",
              " '[CLS] john forgot . [SEP]',\n",
              " \"[CLS] bill seems to be obnoxious , but i do n't think that sam happens . [SEP]\",\n",
              " \"[CLS] bill seems to be obnoxious , but i do n't think that sam turns out . [SEP]\",\n",
              " \"[CLS] bill seems to be obnoxious , but i do n't think that sam tends . [SEP]\",\n",
              " '[CLS] they tried all to like john . [SEP]',\n",
              " '[CLS] they seemed all to like john . [SEP]',\n",
              " '[CLS] john believes sally to be polite . [SEP]',\n",
              " '[CLS] i believe john with all my heart to be a fine person . [SEP]',\n",
              " '[CLS] john is wanted to win . [SEP]',\n",
              " '[CLS] john would be liked to win . [SEP]',\n",
              " '[CLS] we would like john to win . [SEP]',\n",
              " '[CLS] john would be hated to win . [SEP]',\n",
              " '[CLS] john would be preferred to be the candidate . [SEP]',\n",
              " '[CLS] we would prefer john to be the candidate . [SEP]',\n",
              " '[CLS] i would like for john to win . [SEP]',\n",
              " '[CLS] i would hate for john to win . [SEP]',\n",
              " '[CLS] i would prefer for john to be the candidate . [SEP]',\n",
              " '[CLS] john destroyed the house . [SEP]',\n",
              " '[CLS] the electrode emitted ions into the medium . [SEP]',\n",
              " '[CLS] ions struck the electrode . [SEP]',\n",
              " '[CLS] the medium contains ions . [SEP]',\n",
              " '[CLS] the house destroyed john . [SEP]',\n",
              " '[CLS] ions left the electrode . [SEP]',\n",
              " '[CLS] the electrode was left by ions . [SEP]',\n",
              " '[CLS] the electrode was struck by ions . [SEP]',\n",
              " '[CLS] the ball lies in the box . [SEP]',\n",
              " '[CLS] the ball rolled from the bush to the tree . [SEP]',\n",
              " '[CLS] the box contains the ball . [SEP]',\n",
              " '[CLS] the tree dropped fruit to the ground . [SEP]',\n",
              " '[CLS] fruit hit the ground from the tree . [SEP]',\n",
              " '[CLS] the stone knocked against the pole into the road . [SEP]',\n",
              " '[CLS] the stone knocked the pole into the road . [SEP]',\n",
              " '[CLS] the box contained the ball . [SEP]',\n",
              " '[CLS] the box gradually contained the ball . [SEP]',\n",
              " '[CLS] the box at once contained the ball . [SEP]',\n",
              " '[CLS] the box contained the ball to the ground . [SEP]',\n",
              " '[CLS] the tree gradually dropped its fruit to the ground . [SEP]',\n",
              " '[CLS] the tree dropped its fruit to the ground . [SEP]',\n",
              " '[CLS] fruit hit the roof . [SEP]',\n",
              " '[CLS] fruit hit the roof from the tree . [SEP]',\n",
              " '[CLS] fruit at once hit the roof from the tree . [SEP]',\n",
              " '[CLS] fruit hit the roof against the ground . [SEP]',\n",
              " '[CLS] fruit at once hit the roof against the ground . [SEP]',\n",
              " '[CLS] fruit dropped from the tree . [SEP]',\n",
              " '[CLS] fruit dropped from the tree from the clouds . [SEP]',\n",
              " '[CLS] fruit fell against the house . [SEP]',\n",
              " '[CLS] fruit fell against the house against the ground . [SEP]',\n",
              " '[CLS] the tree changed into an oak . [SEP]',\n",
              " '[CLS] the tree changed from a maple into an oak . [SEP]',\n",
              " '[CLS] the maple changed into an oak from a cedar . [SEP]',\n",
              " '[CLS] the maple changed into an oak from a cedar . [SEP]',\n",
              " '[CLS] the maple changed into an oak . [SEP]',\n",
              " '[CLS] the oak developed out of a maple . [SEP]',\n",
              " '[CLS] the train reached the station . [SEP]',\n",
              " '[CLS] the branches knocked against the wall . [SEP]',\n",
              " '[CLS] the child became a man . [SEP]',\n",
              " '[CLS] the party lasted till midnight . [SEP]',\n",
              " '[CLS] the dog went crazy . [SEP]',\n",
              " '[CLS] it struck john that it was so . [SEP]',\n",
              " '[CLS] it came to john that it was so . [SEP]',\n",
              " '[CLS] the snake saw into the nest . [SEP]',\n",
              " '[CLS] hard work resulted in high grades . [SEP]',\n",
              " '[CLS] the farm passed to john . [SEP]',\n",
              " '[CLS] john is touching the wall . [SEP]',\n",
              " '[CLS] the wall is being touched by john . [SEP]',\n",
              " '[CLS] a bear occupies the cave . [SEP]',\n",
              " '[CLS] a bear inhabits the cave . [SEP]',\n",
              " '[CLS] water fills the tub . [SEP]',\n",
              " '[CLS] the electric main joins the house circuit in the basement . [SEP]',\n",
              " '[CLS] the house circuit is joined by the electric main in the basement . [SEP]',\n",
              " '[CLS] the fence straddles the sidewalk . [SEP]',\n",
              " '[CLS] the sidewalk is straddled by the fence . [SEP]',\n",
              " '[CLS] the man with a book . [SEP]',\n",
              " '[CLS] gas escaped the tube . [SEP]',\n",
              " '[CLS] the terrorist escaped the prison cell . [SEP]',\n",
              " '[CLS] the prison cell was escaped by the terrorist . [SEP]',\n",
              " '[CLS] the rolling stone avoided the river . [SEP]',\n",
              " '[CLS] the river was avoided by the rolling stone . [SEP]',\n",
              " '[CLS] the agents caught the terrorist . [SEP]',\n",
              " '[CLS] the sponge soaked up the water . [SEP]',\n",
              " '[CLS] the tub filled with water . [SEP]',\n",
              " '[CLS] john received a book . [SEP]',\n",
              " '[CLS] john learned a lesson . [SEP]',\n",
              " '[CLS] the parcel reached john . [SEP]',\n",
              " '[CLS] john received the parcel . [SEP]',\n",
              " '[CLS] the farm finally got to john after much litigation . [SEP]',\n",
              " '[CLS] the farm finally reached john after much litigation . [SEP]',\n",
              " '[CLS] water filled the cup high . [SEP]',\n",
              " '[CLS] water filled the cup . [SEP]',\n",
              " '[CLS] water emptied the cup . [SEP]',\n",
              " '[CLS] the cup filled the water high . [SEP]',\n",
              " '[CLS] the cup filled of water . [SEP]',\n",
              " '[CLS] the cup filled with water . [SEP]',\n",
              " '[CLS] the cup emptied with water . [SEP]',\n",
              " '[CLS] the barge piled high with logs . [SEP]',\n",
              " '[CLS] the road blocked with a stone . [SEP]',\n",
              " '[CLS] the branch dropped bare of its apple . [SEP]',\n",
              " '[CLS] the logs piled the barge high . [SEP]',\n",
              " '[CLS] a stone blocked the road . [SEP]',\n",
              " '[CLS] the bottle drained the liquid free . [SEP]',\n",
              " '[CLS] the branch dropped its apple free . [SEP]',\n",
              " '[CLS] some branches broke off of the tree . [SEP]',\n",
              " '[CLS] the tree broke off some branches . [SEP]',\n",
              " '[CLS] the tree dropped some branches . [SEP]',\n",
              " '[CLS] the tree lost some branches . [SEP]',\n",
              " '[CLS] water bubbled out of the kettle . [SEP]',\n",
              " '[CLS] the kettle bubbled water up . [SEP]',\n",
              " '[CLS] the kettle bubbled water . [SEP]',\n",
              " '[CLS] the cup filled water . [SEP]',\n",
              " '[CLS] the stone knocked the pole into the road . [SEP]',\n",
              " '[CLS] the tub leaked empty of water . [SEP]',\n",
              " '[CLS] the stone knocked against the pole into the road . [SEP]',\n",
              " '[CLS] hail stones broke the window . [SEP]',\n",
              " '[CLS] the force of the wind broke the window . [SEP]',\n",
              " '[CLS] the window broke from hail stones . [SEP]',\n",
              " '[CLS] the window broke from the force of the wind . [SEP]',\n",
              " '[CLS] what the force of the wind did to the window was break it . [SEP]',\n",
              " '[CLS] john hit the stone against the wall . [SEP]',\n",
              " '[CLS] john hit the wall with the stone . [SEP]',\n",
              " '[CLS] john tapped some wine from a barrel . [SEP]',\n",
              " '[CLS] john tapped a barrel of some wine . [SEP]',\n",
              " '[CLS] john laid the book on the table . [SEP]',\n",
              " '[CLS] john included his name in the list . [SEP]',\n",
              " '[CLS] john loaded the bricks onto the truck . [SEP]',\n",
              " '[CLS] john loaded the truck with bricks . [SEP]',\n",
              " '[CLS] john fed rice to the baby . [SEP]',\n",
              " '[CLS] john fed the baby rice . [SEP]',\n",
              " '[CLS] john fed the baby up with rice . [SEP]',\n",
              " '[CLS] john fed the baby rice up . [SEP]',\n",
              " '[CLS] the ball lies completely in the box . [SEP]',\n",
              " '[CLS] the box completely contains the ball . [SEP]',\n",
              " '[CLS] the train got to the station fully . [SEP]',\n",
              " '[CLS] the train reached the station fully . [SEP]',\n",
              " '[CLS] press the stamp against the pad completely . [SEP]',\n",
              " '[CLS] press the pad with the stamp completely . [SEP]',\n",
              " '[CLS] spray the paint onto the wall completely . [SEP]',\n",
              " '[CLS] spray all the paint onto the wall completely . [SEP]',\n",
              " '[CLS] spray the wall with all the paint . [SEP]',\n",
              " '[CLS] spray the whole wall with the paint . [SEP]',\n",
              " '[CLS] what john did to the wall was paint it . [SEP]',\n",
              " '[CLS] what john did to the whole wall was paint it . [SEP]',\n",
              " '[CLS] what john did to the wall was hit it . [SEP]',\n",
              " '[CLS] what the stone did to the wall was hit it . [SEP]',\n",
              " '[CLS] what the stone did to the whole wall was hit it . [SEP]',\n",
              " '[CLS] john took bill to be a fool . [SEP]',\n",
              " '[CLS] john concluded bill to be a fool . [SEP]',\n",
              " '[CLS] give the bottle to the baby full . [SEP]',\n",
              " '[CLS] give the bottle to the baby awake . [SEP]',\n",
              " '[CLS] give the baby the bottle full . [SEP]',\n",
              " '[CLS] give the baby the bottle awake . [SEP]',\n",
              " '[CLS] rub the cloth on the baby torn . [SEP]',\n",
              " '[CLS] rub the cloth on the baby asleep . [SEP]',\n",
              " '[CLS] rub the baby with the cloth torn . [SEP]',\n",
              " '[CLS] rub the baby with the cloth asleep . [SEP]',\n",
              " '[CLS] dry the baby with the cloth asleep . [SEP]',\n",
              " '[CLS] dry the baby with the cloth torn . [SEP]',\n",
              " '[CLS] the cup knocked the stone apart . [SEP]',\n",
              " '[CLS] the stone knocked the cup apart . [SEP]',\n",
              " '[CLS] the cup smashed apart against the stone . [SEP]',\n",
              " '[CLS] the stone smashed the cup apart . [SEP]',\n",
              " '[CLS] the tank filled with petrol out of the pump . [SEP]',\n",
              " '[CLS] the cup emptied of water onto the ground . [SEP]',\n",
              " '[CLS] john included her name in the list . [SEP]',\n",
              " '[CLS] john rolled the ball from the tree to the bush . [SEP]',\n",
              " '[CLS] john tapped the bottle of some water . [SEP]',\n",
              " '[CLS] john gave bill the book . [SEP]',\n",
              " '[CLS] john got the book from bill . [SEP]',\n",
              " '[CLS] john gave bill of the book . [SEP]',\n",
              " '[CLS] we have someone in the living room . [SEP]',\n",
              " '[CLS] john is very fond of mary . [SEP]',\n",
              " '[CLS] mary laughed at john . [SEP]',\n",
              " '[CLS] the ship sank beneath the waves . [SEP]',\n",
              " '[CLS] mary considers john a fool and bill a wimp . [SEP]',\n",
              " '[CLS] john regards professors as strange and politicians as creepy . [SEP]',\n",
              " '[CLS] sue put the books on the table and the records on the chair . [SEP]',\n",
              " '[CLS] harriet gave a mug to john and a scarf to vivien . [SEP]',\n",
              " '[CLS] i expect john to win and harry to lose . [SEP]',\n",
              " '[CLS] you eat the fish raw and the beef cooked . [SEP]',\n",
              " '[CLS] they told sue who to talk to and virginia when to leave . [SEP]',\n",
              " '[CLS] smith loaned , and his widow later donated , a valuable collection of manuscripts to the library . [SEP]',\n",
              " '[CLS] sue moved , and mary also transferred , her business to a different location . [SEP]',\n",
              " '[CLS] i succeeded in convincing , even though john had failed to persuade , mary not to leave . [SEP]',\n",
              " \"[CLS] we did n't particularly like , but nevertheless ate , the fish raw . [SEP]\",\n",
              " \"[CLS] flo desperately wants , though she does n't really expect , the miami dolphins to be in the play-offs . [SEP]\",\n",
              " '[CLS] john learned french perfectly . [SEP]',\n",
              " '[CLS] bill recited his lines poorly . [SEP]',\n",
              " '[CLS] mary plays the violin beautifully . [SEP]',\n",
              " '[CLS] john perfectly learned french . [SEP]',\n",
              " '[CLS] bill poorly recited his lines . [SEP]',\n",
              " '[CLS] john learned french immediately . [SEP]',\n",
              " '[CLS] bill recited his lines slowly . [SEP]',\n",
              " '[CLS] mary will play the violin soon . [SEP]',\n",
              " '[CLS] john immediately learned french . [SEP]',\n",
              " '[CLS] bill slowly recited his lines . [SEP]',\n",
              " '[CLS] mary will soon play the violin . [SEP]',\n",
              " '[CLS] john immediately learned french perfectly . [SEP]',\n",
              " '[CLS] john learned french perfectly almost immediately . [SEP]',\n",
              " '[CLS] john learned french perfectly immediately . [SEP]',\n",
              " '[CLS] john perfectly learned french immediately . [SEP]',\n",
              " '[CLS] john learned french immediately perfectly . [SEP]',\n",
              " '[CLS] clearly , john immediately will probably learn french perfectly . [SEP]',\n",
              " '[CLS] immediately , john probably will clearly learn french perfectly . [SEP]',\n",
              " '[CLS] clearly , john perfectly will immediately learn french probably . [SEP]',\n",
              " '[CLS] john perfectly rolled the ball down the hill . [SEP]',\n",
              " '[CLS] john rolled the ball perfectly down the hill . [SEP]',\n",
              " '[CLS] john rolled the ball down the hill perfectly . [SEP]',\n",
              " '[CLS] john perfectly shot the ball . [SEP]',\n",
              " '[CLS] john shot the ball perfectly . [SEP]',\n",
              " '[CLS] john intimately spoke to mary . [SEP]',\n",
              " '[CLS] john spoke intimately to mary . [SEP]',\n",
              " '[CLS] john spoke to mary intimately . [SEP]',\n",
              " '[CLS] john spoke french intimately to mary . [SEP]',\n",
              " '[CLS] john spoke french to mary intimately . [SEP]',\n",
              " '[CLS] mary jumped the horse perfectly over the last fence . [SEP]',\n",
              " '[CLS] mary jumped the horse over the last fence perfectly . [SEP]',\n",
              " '[CLS] john spoke intimately french to mary . [SEP]',\n",
              " '[CLS] john spoke to mary french . [SEP]',\n",
              " '[CLS] mary persuaded to leave john . [SEP]',\n",
              " '[CLS] the lions ate raw the meat . [SEP]',\n",
              " '[CLS] mary persuaded that he should rest bill . [SEP]',\n",
              " '[CLS] we consider the men all fools . [SEP]',\n",
              " '[CLS] we consider the men all totally crazy . [SEP]',\n",
              " '[CLS] i saw the men all . [SEP]',\n",
              " '[CLS] the men were arrested all . [SEP]',\n",
              " '[CLS] the men arrived all . [SEP]',\n",
              " '[CLS] the teacher ordered the two boys both to pay close attention . [SEP]',\n",
              " '[CLS] they returned the books all to their owners . [SEP]',\n",
              " '[CLS] we painted the chairs all red . [SEP]',\n",
              " '[CLS] the trainer fed the steaks all to the lions . [SEP]',\n",
              " \"[CLS] bill proud of himself john does n't consider . [SEP]\",\n",
              " '[CLS] home was gone by john . [SEP]',\n",
              " '[CLS] mary left the room angry . [SEP]',\n",
              " '[CLS] the room was left angry by mary . [SEP]',\n",
              " '[CLS] the room was left angry . [SEP]',\n",
              " '[CLS] john resembles bill . [SEP]',\n",
              " '[CLS] bill is resembled by john . [SEP]',\n",
              " '[CLS] the package weighed 10 lb . [SEP]',\n",
              " '[CLS] 10 lb was weighed by the package . [SEP]',\n",
              " '[CLS] this book cost $ 10 . [SEP]',\n",
              " '[CLS] $ 10 was cost by this book . [SEP]',\n",
              " '[CLS] the book cost john $ 10 . [SEP]',\n",
              " '[CLS] john was cost $ 10 by the book . [SEP]',\n",
              " '[CLS] john is impressed by bill as pompous . [SEP]',\n",
              " '[CLS] the boys were made a good mother . [SEP]',\n",
              " '[CLS] the boys were made a good mother by aunt mary . [SEP]',\n",
              " '[CLS] the kids were failed by max as a father . [SEP]',\n",
              " '[CLS] the kids were failed as a father . [SEP]',\n",
              " '[CLS] the men were struck by the idea as nonsense . [SEP]',\n",
              " '[CLS] the men were promised to leave . [SEP]',\n",
              " '[CLS] he impresses his friends all as pompous . [SEP]',\n",
              " '[CLS] aunt mary made the boys all a good mother . [SEP]',\n",
              " '[CLS] max failed the kids all as a father . [SEP]',\n",
              " '[CLS] frank promised the men all to leave . [SEP]',\n",
              " '[CLS] we proclaimed to the public john to be a hero . [SEP]',\n",
              " '[CLS] we proclaimed john to the public to be a hero . [SEP]',\n",
              " '[CLS] we proclaimed sincerely john to be a hero . [SEP]',\n",
              " '[CLS] we proclaimed john sincerely to be a hero . [SEP]',\n",
              " '[CLS] we proclaimed sincerely to the public john to be a hero . [SEP]',\n",
              " '[CLS] we proclaimed john sincerely to the public to be a hero . [SEP]',\n",
              " '[CLS] they represented to the dean mary as a genuine linguist . [SEP]',\n",
              " '[CLS] they represented mary to the dean as a genuine linguist . [SEP]',\n",
              " '[CLS] they represented seriously mary as a genuine linguist . [SEP]',\n",
              " '[CLS] they represented mary seriously as a genuine linguist . [SEP]',\n",
              " '[CLS] they represented mary seriously to the dean as a genuine linguist . [SEP]',\n",
              " '[CLS] we proved to the authorities smith to be the thief . [SEP]',\n",
              " '[CLS] we proved conclusively smith to be the thief . [SEP]',\n",
              " '[CLS] we proved smith conclusively to be the thief . [SEP]',\n",
              " '[CLS] we proved conclusively to the authorities smith to be the thief . [SEP]',\n",
              " '[CLS] we proved smith conclusively to the authorities to be the thief . [SEP]',\n",
              " '[CLS] the gardener watered the tulips flat . [SEP]',\n",
              " '[CLS] the grocer ground the coffee beans to a fine powder . [SEP]',\n",
              " '[CLS] they painted their house a hideous shade of green . [SEP]',\n",
              " '[CLS] the joggers ran their nikes threadbare . [SEP]',\n",
              " '[CLS] the kids laughed themselves into a frenzy . [SEP]',\n",
              " '[CLS] he coughed his handkerchief completely soggy . [SEP]',\n",
              " '[CLS] they fed the meat to the lions raw . [SEP]',\n",
              " '[CLS] the lions ate at the meat raw . [SEP]',\n",
              " '[CLS] we love them . [SEP]',\n",
              " '[CLS] we love they . [SEP]',\n",
              " '[CLS] we love their . [SEP]',\n",
              " '[CLS] us love their . [SEP]',\n",
              " '[CLS] our love they . [SEP]',\n",
              " '[CLS] our love them . [SEP]',\n",
              " '[CLS] our love their . [SEP]',\n",
              " '[CLS] he belief that mary kissed bill is mistaken . [SEP]',\n",
              " '[CLS] him belief that mary kissed bill is mistaken . [SEP]',\n",
              " '[CLS] his belief that mary kissed bill is mistaken . [SEP]',\n",
              " '[CLS] mary loves him . [SEP]',\n",
              " '[CLS] mary is fond of him . [SEP]',\n",
              " '[CLS] mary is fond him . [SEP]',\n",
              " '[CLS] mary criticized him . [SEP]',\n",
              " \"[CLS] mary 's criticism him was cruel . [SEP]\",\n",
              " \"[CLS] mary 's criticism of him was cruel . [SEP]\",\n",
              " '[CLS] that john loves mary is doubtful . [SEP]',\n",
              " '[CLS] john to love mary would be doubtful . [SEP]',\n",
              " '[CLS] for john to love mary would be doubtful . [SEP]',\n",
              " '[CLS] to go abroad would be nice . [SEP]',\n",
              " \"[CLS] john 's plan to go abroad is nice . [SEP]\",\n",
              " '[CLS] mary believed john to have loved her . [SEP]',\n",
              " '[CLS] mary considered john to have loved her . [SEP]',\n",
              " '[CLS] mary reported john to have loved her . [SEP]',\n",
              " '[CLS] mary considered to have loved her . [SEP]',\n",
              " '[CLS] mary tried to go abroad . [SEP]',\n",
              " '[CLS] mary intended to go abroad . [SEP]',\n",
              " '[CLS] mary managed to go abroad . [SEP]',\n",
              " '[CLS] mary desired to go abroad . [SEP]',\n",
              " '[CLS] mary tried john to go abroad . [SEP]',\n",
              " '[CLS] mary managed john to go abroad . [SEP]',\n",
              " '[CLS] mary desired john to go abroad . [SEP]',\n",
              " '[CLS] mary believed him to have loved her . [SEP]',\n",
              " '[CLS] mary considered him to have loved her . [SEP]',\n",
              " '[CLS] mary believed he to have loved her . [SEP]',\n",
              " '[CLS] mary considered he to have loved her . [SEP]',\n",
              " '[CLS] mary reported he to have loved her . [SEP]',\n",
              " '[CLS] mary believed his to have loved her . [SEP]',\n",
              " '[CLS] mary considered his to have loved her . [SEP]',\n",
              " '[CLS] mary reported his to have loved her . [SEP]',\n",
              " '[CLS] it is certain that john has loved mary . [SEP]',\n",
              " '[CLS] it is likely that john has loved mary . [SEP]',\n",
              " '[CLS] there are strangers in that garden . [SEP]',\n",
              " '[CLS] there is strangers in that garden . [SEP]',\n",
              " '[CLS] there is arriving three men at that station . [SEP]',\n",
              " '[CLS] there are arriving three men at that station . [SEP]',\n",
              " '[CLS] i consider there to be a man in that garden . [SEP]',\n",
              " '[CLS] i consider there a man in that garden . [SEP]',\n",
              " '[CLS] they alleged there to have been many strangers in that garden . [SEP]',\n",
              " '[CLS] they alleged many strangers to have been in that garden . [SEP]',\n",
              " '[CLS] john wagered there to have been a stranger in that haunted house . [SEP]',\n",
              " '[CLS] john wagered a stranger to have been in that haunted house . [SEP]',\n",
              " '[CLS] john tried to kiss mary . [SEP]',\n",
              " '[CLS] john persuaded mary to kiss him . [SEP]',\n",
              " '[CLS] john told mary to kiss him . [SEP]',\n",
              " '[CLS] it is illegal to park here . [SEP]',\n",
              " '[CLS] i remembered him having kissed mary . [SEP]',\n",
              " '[CLS] i reported him having kissed mary . [SEP]',\n",
              " '[CLS] i reported having kissed mary . [SEP]',\n",
              " '[CLS] i enjoy taking a bath . [SEP]',\n",
              " '[CLS] i detest taking a bath . [SEP]',\n",
              " '[CLS] i enjoy him taking a bath . [SEP]',\n",
              " '[CLS] i detest him taking a bath . [SEP]',\n",
              " '[CLS] i saw him kissing mary . [SEP]',\n",
              " '[CLS] i noticed him kissing mary . [SEP]',\n",
              " '[CLS] i noticed kissing mary . [SEP]',\n",
              " '[CLS] there was known to everyone . [SEP]',\n",
              " \"[CLS] john 's refusing the offer is shocking . [SEP]\",\n",
              " \"[CLS] the enemy 's destroying the city was horrific . [SEP]\",\n",
              " \"[CLS] john 's refusal of the offer was shocking . [SEP]\",\n",
              " \"[CLS] the enemy 's destruction of the city was horrific . [SEP]\",\n",
              " '[CLS] john wanted to leave the room happy and leave the room he did happy . [SEP]',\n",
              " '[CLS] i often send mary home drunk , and she gets there just fine . [SEP]',\n",
              " '[CLS] i raw eat fish drunk . [SEP]',\n",
              " '[CLS] i only eat fish drunk raw . [SEP]',\n",
              " \"[CLS] i do n't think fred will , either . [SEP]\",\n",
              " '[CLS] josé likes cabbage , and holly does too . [SEP]',\n",
              " '[CLS] josé ate cabbage , and holly has too . [SEP]',\n",
              " '[CLS] josé is eating cabbage , and holly is too . [SEP]',\n",
              " \"[CLS] john is leaving but mary 's not . [SEP]\",\n",
              " '[CLS] i consider bill intelligent and i consider sally not . [SEP]',\n",
              " '[CLS] sally started running down the street , but only after josé started . [SEP]',\n",
              " '[CLS] sally made bill laugh , and then josé made . [SEP]',\n",
              " \"[CLS] mary came to read fred 's story , and i also came to . [SEP]\",\n",
              " \"[CLS] john wants to go on vacation , but he does n't know when to . [SEP]\",\n",
              " '[CLS] mary was told to bring something to the party , so she asked sue what to . [SEP]',\n",
              " '[CLS] we might go on vacation if we can ever figure out when to . [SEP]',\n",
              " \"[CLS] ron wanted to wear a tuxedo to the party , but caspar could n't decide whether to . [SEP]\",\n",
              " \"[CLS] you should n't play with rifles because to is dangerous . [SEP]\",\n",
              " '[CLS] john is being discussed and sally is being too . [SEP]',\n",
              " '[CLS] i remember john being discussed , but you recall sally being . [SEP]',\n",
              " \"[CLS] sally might have eaten cabbage , but holly should n't . [SEP]\",\n",
              " '[CLS] josé asks that we go to the meeting , and sally will tell us when . [SEP]',\n",
              " \"[CLS] it 's we go to the meeting , that sally will tell us when . [SEP]\",\n",
              " \"[CLS] it 's to mary that joe said holly can talk . [SEP]\",\n",
              " \"[CLS] mary claimed that eaten cabbage , holly has n't . [SEP]\",\n",
              " \"[CLS] mary claimed that eating cabbage , holly 's not . [SEP]\",\n",
              " '[CLS] mary claimed that eat cabbage , holly wants to . [SEP]',\n",
              " '[CLS] mary claimed that would eat cabbage , holly . [SEP]',\n",
              " \"[CLS] mary claimed that has n't eaten cabbage , holly . [SEP]\",\n",
              " '[CLS] mary claimed that eating cabbage , holly started . [SEP]',\n",
              " '[CLS] mary claimed that eat cabbage , holly made me . [SEP]',\n",
              " '[CLS] mary claimed that have eaten cabbage , holly should . [SEP]',\n",
              " '[CLS] mary claimed that intelligent , i consider holly not . [SEP]',\n",
              " '[CLS] lilly recounted a story to remember because holly had also recounted a story to . [SEP]',\n",
              " \"[CLS] i reviewed joe 's attempt to find holly while you reviewed josé 's attempt to . [SEP]\",\n",
              " \"[CLS] mary questioned joe 's desire to eat cabbage , but only after i had questioned sally 's desire to . [SEP]\",\n",
              " '[CLS] sally explained the attempt to arrest holly , but only after i had denied the decision to . [SEP]',\n",
              " \"[CLS] john did n't hit a home run , but i know a woman who did . [SEP]\",\n",
              " \"[CLS] that betsy won the batting crown is not surprising , but that peter did n't know she did is surprising . [SEP]\",\n",
              " \"[CLS] you should n't have played with rifles because to have is dangerous . [SEP]\",\n",
              " \"[CLS] ron wanted to be wearing a tuxedo to the party , but caspar did n't know whether to be . [SEP]\",\n",
              " '[CLS] lilly recounted a story to be remembered because holly had recounted a story to be . [SEP]',\n",
              " '[CLS] lilly decided that eating cabbage , she should be . [SEP]',\n",
              " '[CLS] lilly decided eating cabbage , to be . [SEP]',\n",
              " \"[CLS] read fred 's story , i also want to . [SEP]\",\n",
              " \"[CLS] you should n't play with rifles because play with rifles to is dangerous . [SEP]\",\n",
              " \"[CLS] ron wanted to wear a tuxedo to the party , but wear a tuxedo to the party caspar could n't decide whether to . [SEP]\",\n",
              " '[CLS] lucy barnes recounted a story to remember because remember holly had recounted a story to . [SEP]',\n",
              " '[CLS] mag wildwood came to introduce the bartender but i came not to . [SEP]',\n",
              " '[CLS] mag wildwood came to introduce the bartender but i came precisely not to . [SEP]',\n",
              " '[CLS] you should unload rifles because not to s is dangerous . [SEP]',\n",
              " '[CLS] if ron knows whether to wear a tuxedo , and caspar knows whether not to , do they know different things ? [SEP]',\n",
              " '[CLS] lucy recounted a story to remember because holly had recounted as story not to . [SEP]',\n",
              " '[CLS] i will , if i can work on it . [SEP]',\n",
              " '[CLS] did harry leave ? [SEP]',\n",
              " '[CLS] does joe sing ? [SEP]',\n",
              " '[CLS] a proof that god exist does . [SEP]',\n",
              " '[CLS] a proof that god does exists . [SEP]',\n",
              " '[CLS] i visited every town in every country i had to . [SEP]',\n",
              " '[CLS] every man who said he would buy some salmon did . [SEP]',\n",
              " '[CLS] i visited every town i had to . [SEP]',\n",
              " '[CLS] every town in every country i had to i visited . [SEP]',\n",
              " '[CLS] every man who said he would buy some salmon did buy some salmon . [SEP]',\n",
              " '[CLS] lilly should buy salmon and mary should too . [SEP]',\n",
              " '[CLS] lilly should buy salmon and mary should buy salmon too . [SEP]',\n",
              " \"[CLS] joe 's neuroses bother his patrons , and sally 's neuroses do too . [SEP]\",\n",
              " \"[CLS] joe likes his bar , and sally 's patrons do too . [SEP]\",\n",
              " '[CLS] every picture of itself arrived . [SEP]',\n",
              " \"[CLS] my uncle does n't have a spouse but your aunt does and he is lying on the floor . [SEP]\",\n",
              " \"[CLS] my uncle did n't buy anything for christmas , but my aunt did it for him and it was bright red . [SEP]\",\n",
              " \"[CLS] i know which book max read , and which book oscar did n't . [SEP]\",\n",
              " \"[CLS] this is the book of which bill approves , and this is the one of which he does n't . [SEP]\",\n",
              " \"[CLS] i know which book mag read , and which book bob asked why you had n't . [SEP]\",\n",
              " '[CLS] i know which book mag read , and which book bob discussed after i had . [SEP]',\n",
              " '[CLS] dulles suspected everyone who angleton did . [SEP]',\n",
              " \"[CLS] while bob read fred , he did n't dickens . [SEP]\",\n",
              " \"[CLS] sally suspected joe , but he did n't holly . [SEP]\",\n",
              " \"[CLS] although mag does n't eggplants , sally eats cabbage . [SEP]\",\n",
              " \"[CLS] although i do n't know which book sam did , i do know which book sally read . [SEP]\",\n",
              " '[CLS] near everyone angleton did , dulles stood . [SEP]',\n",
              " \"[CLS] sally will stand near mag , but he wo n't holly . [SEP]\",\n",
              " \"[CLS] while holly did n't discuss a report about every boy , she did every girl . [SEP]\",\n",
              " '[CLS] sally will stand near every woman that you will . [SEP]',\n",
              " \"[CLS] i know which woman holly will discuss a report about , but i do n't know which woman you will . [SEP]\",\n",
              " \"[CLS] sam stood near yesterday every one of the women we 'd been discussing . [SEP]\",\n",
              " '[CLS] truman visited yesterday you . [SEP]',\n",
              " '[CLS] truman told the story bob . [SEP]',\n",
              " \"[CLS] while truman did n't visit me , he did you . [SEP]\",\n",
              " \"[CLS] while truman did n't tell me a story , he did rusty . [SEP]\",\n",
              " \"[CLS] while josé wo n't talk about mag , he might about holly . [SEP]\",\n",
              " \"[CLS] although doc might tell it to you , he wo n't to me . [SEP]\",\n",
              " '[CLS] i think you need to show yourself more than you do anyone else . [SEP]',\n",
              " \"[CLS] while truman does n't want to visit every city , he does barcelona . [SEP]\",\n",
              " \"[CLS] while rusty might leave in order to please mag , he wo n't his father . [SEP]\",\n",
              " \"[CLS] while doc might claim that bob had read his book , he wo n't the paper . [SEP]\",\n",
              " \"[CLS] i 'll turn the radio down , but i wo n't up . [SEP]\",\n",
              " '[CLS] fred likes eggplants , although he likes cabbage too . [SEP]',\n",
              " '[CLS] although he likes cabbage too , fred likes eggplants . [SEP]',\n",
              " '[CLS] fred gave flowers to his sweetie because frank had . [SEP]',\n",
              " '[CLS] china is a country that joe wants to visit , and he will too , if he gets enough money . [SEP]',\n",
              " \"[CLS] jerry would n't read a book by babel , but meryl has done so and it was pretty good . [SEP]\",\n",
              " \"[CLS] i know which book max read , and which book oscar has n't done so . [SEP]\",\n",
              " \"[CLS] joe might wish he had , but this is n't a country he has visited . [SEP]\",\n",
              " '[CLS] while i might want to , this is the kind of thing that harris has already suggested . [SEP]',\n",
              " '[CLS] we like our friends and they do too . [SEP]',\n",
              " '[CLS] we like our friends and they like our friends too . [SEP]',\n",
              " '[CLS] we like our friends and they like their friends , too . [SEP]',\n",
              " '[CLS] rusty talked about himself only after holly did . [SEP]',\n",
              " '[CLS] rusty talked about himself only after mary did talk about himself . [SEP]',\n",
              " '[CLS] i could find no solution , but holly might . [SEP]',\n",
              " '[CLS] fred talked about everything before rusty did . [SEP]',\n",
              " '[CLS] joe will go to the store , even though fred already has . [SEP]',\n",
              " '[CLS] today there is little or no official harassment of lesbians and gays by the national government , although autonomous governments might . [SEP]',\n",
              " '[CLS] the candidate was dogged by charges of infidelity and avoiding the draft , or at least trying to . [SEP]',\n",
              " '[CLS] david is a great artist , and when he does , his eyes squint at you . [SEP]',\n",
              " '[CLS] the candidate was dogged by charges of infidelity , or at least trying to . [SEP]',\n",
              " '[CLS] this information could have been released by gorbachev , but he chose not to . [SEP]',\n",
              " '[CLS] a lot of this material can be presented in a fairly informal and accessible fashion , and often i do . [SEP]',\n",
              " '[CLS] john likes not mary . [SEP]',\n",
              " '[CLS] john does not like mary . [SEP]',\n",
              " '[CLS] john meets often mary . [SEP]',\n",
              " '[CLS] john tries to often meet mary . [SEP]',\n",
              " '[CLS] john tries to meet often mary . [SEP]',\n",
              " '[CLS] john tries not to meet mary . [SEP]',\n",
              " '[CLS] john tries to meet not mary . [SEP]',\n",
              " '[CLS] is mary running the marathon ? [SEP]',\n",
              " '[CLS] runs mary the marathon ? [SEP]',\n",
              " '[CLS] mary is often running the marathon . [SEP]',\n",
              " '[CLS] mary runs often the marathon . [SEP]',\n",
              " '[CLS] mary is not running the marathon . [SEP]',\n",
              " \"[CLS] i did n't , as bill had thought , go to the store . [SEP]\",\n",
              " '[CLS] i did , as bill had thought , go to the store . [SEP]',\n",
              " '[CLS] i did not , as bill had thought , go to the store . [SEP]',\n",
              " '[CLS] the writers could so believe the boy . [SEP]',\n",
              " '[CLS] the writers so believed the boy . [SEP]',\n",
              " '[CLS] the writers did so believe the boy . [SEP]',\n",
              " \"[CLS] the writers did n't so believe the boy . [SEP]\",\n",
              " '[CLS] rome destroyed carthage . [SEP]',\n",
              " \"[CLS] rome 's destruction of carthage was horrific . [SEP]\",\n",
              " '[CLS] john bought the picture of himself that bill saw . [SEP]',\n",
              " '[CLS] the perception of the problem is quite thorough . [SEP]',\n",
              " '[CLS] the knowledge of the problem is quite thorough . [SEP]',\n",
              " \"[CLS] the problem 's perception is quite thorough . [SEP]\",\n",
              " \"[CLS] the problem 's knowledge is quite thorough . [SEP]\",\n",
              " '[CLS] the problem knows easily . [SEP]',\n",
              " '[CLS] the ship sank to collect the insurance . [SEP]',\n",
              " '[CLS] the sinking of the ship was very devious . [SEP]',\n",
              " '[CLS] the sinking of the ship to collect the insurance was very devious . [SEP]',\n",
              " \"[CLS] the ship 's sinking was very devious . [SEP]\",\n",
              " \"[CLS] the ship 's sinking to collect the insurance was very devious . [SEP]\",\n",
              " '[CLS] the testing of such drugs on oneself is too risky . [SEP]',\n",
              " \"[CLS] this drug 's testing on oneself is too risky . [SEP]\",\n",
              " '[CLS] the ship was sunk to collect the insurance . [SEP]',\n",
              " '[CLS] this drug must first be tested on oneself . [SEP]',\n",
              " \"[CLS] the president 's moral destruction is complete . [SEP]\",\n",
              " '[CLS] the moral destruction of the president was certainly not helpful . [SEP]',\n",
              " '[CLS] mary wants to wear nice blue german dress . [SEP]',\n",
              " '[CLS] tomatoes were introduced in europe after 1492 . [SEP]',\n",
              " '[CLS] we rich have impeccable taste . [SEP]',\n",
              " '[CLS] rich we have impeccable taste . [SEP]',\n",
              " ...]"
            ]
          },
          "metadata": {
            "tags": []
          },
          "execution_count": 61
        }
      ]
    },
    {
      "cell_type": "code",
      "metadata": {
        "id": "TIUGZHAOfBvB",
        "colab_type": "code",
        "colab": {
          "base_uri": "https://localhost:8080/",
          "height": 53
        },
        "outputId": "c9ed6e74-eb2a-4889-b675-179bc00d2d3c"
      },
      "source": [
        "# 接下来，导入BERT标记器，用于将文本转换为与BERT词汇表对应的标记。\n",
        "tokenizer = BertTokenizer.from_pretrained('bert-base-uncased', do_lower_case=True)\n",
        "\n",
        "tokenized_texts = [tokenizer.tokenize(sent) for sent in sentences]\n",
        "print (\"Tokenize the first sentence:\")\n",
        "print (tokenized_texts[0])"
      ],
      "execution_count": 62,
      "outputs": [
        {
          "output_type": "stream",
          "text": [
            "Tokenize the first sentence:\n",
            "['[CLS]', 'our', 'friends', 'wo', 'n', \"'\", 't', 'buy', 'this', 'analysis', ',', 'let', 'alone', 'the', 'next', 'one', 'we', 'propose', '.', '[SEP]']\n"
          ],
          "name": "stdout"
        }
      ]
    },
    {
      "cell_type": "code",
      "metadata": {
        "id": "5El2DbYjfJsv",
        "colab_type": "code",
        "colab": {}
      },
      "source": [
        "# BERT需要特定格式的输入。对于每个标记化的输入语句，我们需要创建:\n",
        "# input ids: 在BERT词汇表中，将每个输入记号标识为其索引号的整数序列\n",
        "# segment mask: (optional) a sequence of 1s and 0s used to identify whether the input is one sentence or two sentences long. For one sentence inputs, this is simply a sequence of 0s. \n",
        "#                For two sentence inputs, there is a 0 for each token of the first sentence, followed by a 1 for each token of the second sentence\n",
        "# attention mask: (optional) a sequence of 1s and 0s, with 1s for all input tokens and 0s for all padding tokens (we’ll detail this in the next paragraph)\n",
        "# labels: a single value of 1 or 0. In our task  1表示“合乎语法的”，0表示“不合语法的”"
      ],
      "execution_count": 0,
      "outputs": []
    },
    {
      "cell_type": "code",
      "metadata": {
        "id": "fJU9GrsSgCgd",
        "colab_type": "code",
        "colab": {}
      },
      "source": [
        "# 虽然我们可以有可变长度的输入语句，但是BERT要求我们的输入数组大小相同。我们首先选择一个最大的句子长度，然后填充和截断输入，直到每个输入序列的长度相同。\n",
        "# 如果一个句子比最大的句子长度短，我们只需在序列的末尾添加0，直到它是最大的句子长度。\n",
        "# 如果一个句子比最大的句子长度长，那么我们简单地截断序列的末尾"
      ],
      "execution_count": 0,
      "outputs": []
    },
    {
      "cell_type": "code",
      "metadata": {
        "id": "Kw8SrLd_gSEO",
        "colab_type": "code",
        "colab": {}
      },
      "source": [
        "# Set the maximum sequence length. 我们的训练集中最长的序列是47，但是我们还是要在最后留点空间。 \n",
        "# In the original paper, the authors used a length of 512.\n",
        "MAX_LEN = 128"
      ],
      "execution_count": 0,
      "outputs": []
    },
    {
      "cell_type": "code",
      "metadata": {
        "id": "uiGrglmThii7",
        "colab_type": "code",
        "colab": {}
      },
      "source": [
        "# Use the BERT tokenizer to convert the tokens to their index numbers in the BERT vocabulary\n",
        "input_ids = [tokenizer.convert_tokens_to_ids(x) for x in tokenized_texts]"
      ],
      "execution_count": 0,
      "outputs": []
    },
    {
      "cell_type": "code",
      "metadata": {
        "id": "WXpPuWX9hB7t",
        "colab_type": "code",
        "colab": {}
      },
      "source": [
        "# Pad our input tokens\n",
        "# “post”表示我们希望在序列的末尾进行填充和截断，而不是在序列的开头\n",
        "input_ids = pad_sequences(input_ids, maxlen=MAX_LEN, dtype=\"long\", truncating=\"post\", padding=\"post\") "
      ],
      "execution_count": 0,
      "outputs": []
    },
    {
      "cell_type": "code",
      "metadata": {
        "id": "K6083hgVhlj3",
        "colab_type": "code",
        "colab": {}
      },
      "source": [
        "# Create the attention masks\n",
        "# Create attention masks\n",
        "attention_masks = []\n",
        "\n",
        "# Create a mask of 1s for each token followed by 0s for padding\n",
        "for seq in input_ids:\n",
        "  seq_mask = [float(i>0) for i in seq]\n",
        "  attention_masks.append(seq_mask)"
      ],
      "execution_count": 0,
      "outputs": []
    },
    {
      "cell_type": "code",
      "metadata": {
        "id": "n0xcVFTxhnBE",
        "colab_type": "code",
        "colab": {}
      },
      "source": [
        "# Use train_test_split to split our data into train and validation sets for training\n",
        "\n",
        "train_inputs, validation_inputs, train_labels, validation_labels = train_test_split(input_ids, labels, \n",
        "                                                            random_state=2018, test_size=0.1)\n",
        "train_masks, validation_masks, _, _ = train_test_split(attention_masks, input_ids,\n",
        "                                             random_state=2018, test_size=0.1)"
      ],
      "execution_count": 0,
      "outputs": []
    },
    {
      "cell_type": "code",
      "metadata": {
        "id": "SYBSZHJAiI2s",
        "colab_type": "code",
        "colab": {}
      },
      "source": [
        "# Convert all of our data into torch tensors, the required datatype for our model\n",
        "\n",
        "train_inputs = torch.tensor(train_inputs)\n",
        "validation_inputs = torch.tensor(validation_inputs)\n",
        "train_labels = torch.tensor(train_labels)\n",
        "validation_labels = torch.tensor(validation_labels)\n",
        "train_masks = torch.tensor(train_masks)\n",
        "validation_masks = torch.tensor(validation_masks)"
      ],
      "execution_count": 0,
      "outputs": []
    },
    {
      "cell_type": "code",
      "metadata": {
        "id": "vUXaZXNXiQfm",
        "colab_type": "code",
        "colab": {}
      },
      "source": [
        "# Select a batch size for training. For fine-tuning BERT on a specific task, the authors recommend a batch size of 16 or 32\n",
        "batch_size = 32\n",
        "\n",
        "# Create an iterator of our data with torch DataLoader. This helps save on memory during training because, unlike a for loop, \n",
        "# with an iterator the entire dataset does not need to be loaded into memory\n",
        "\n",
        "train_data = TensorDataset(train_inputs, train_masks, train_labels)\n",
        "train_sampler = RandomSampler(train_data)\n",
        "train_dataloader = DataLoader(train_data, sampler=train_sampler, batch_size=batch_size)\n",
        "\n",
        "validation_data = TensorDataset(validation_inputs, validation_masks, validation_labels)\n",
        "validation_sampler = SequentialSampler(validation_data)\n",
        "validation_dataloader = DataLoader(validation_data, sampler=validation_sampler, batch_size=batch_size)\n"
      ],
      "execution_count": 0,
      "outputs": []
    },
    {
      "cell_type": "code",
      "metadata": {
        "id": "C2U5ZWbSivM6",
        "colab_type": "code",
        "colab": {}
      },
      "source": [
        "# huggingface pytorch实现包括一组为各种NLP任务设计的接口。虽然这些接口都构建在经过训练的BERT模型之上，但是每个接口都有不同的顶层和输出类型，以适应其特定的NLP任务。\n",
        "# 加载BertForSequenceClassification，这是普通的BERT模型，上面添加了一个线性层用于分类，我们将使用它作为句子分类器。\n"
      ],
      "execution_count": 0,
      "outputs": []
    },
    {
      "cell_type": "code",
      "metadata": {
        "id": "U3bucMeNjtpP",
        "colab_type": "code",
        "colab": {}
      },
      "source": [
        "# Structure of Fine-Tuning Model\n",
        "# 每个序列的第一个标记是特殊分类标记([CLS])。与普通单词标记对应的隐藏状态向量不同，\n",
        "# 这个特殊标记对应的隐藏状态由BERT的作者指定为用于分类任务的整个句子的聚合表示。\n",
        "# 因此，当我们在训练过程中将一个输入语句输入到我们的模型中时，输出的长度是与这个令牌对应的768隐藏状态向量。\n",
        "# 我们添加的附加层顶部由未经训练的大小[hidden_state, number_of_labels]的线性神经元,所以[768,2],这意味着bert加上分类层的输出是一个向量的两个数字代表“分数”“grammatical/ non-grammatical”,然后输入叉损失。\n",
        "\n",
        "# The Fine-Tuning Proces\n",
        "# need to train the top layer, with a bit of tweaking going on in the lower levels to accomodate our task.\n",
        "\n"
      ],
      "execution_count": 0,
      "outputs": []
    },
    {
      "cell_type": "code",
      "metadata": {
        "id": "Q-EQ66bUlPcs",
        "colab_type": "code",
        "colab": {}
      },
      "source": [
        "# Load BertForSequenceClassification, the pretrained BERT model with a single linear classification layer on top. \n",
        "\n",
        "model = BertForSequenceClassification.from_pretrained(\"bert-base-uncased\", num_labels=2)\n",
        "model.cuda()"
      ],
      "execution_count": 0,
      "outputs": []
    },
    {
      "cell_type": "code",
      "metadata": {
        "id": "JL_GCTxcl0Pu",
        "colab_type": "code",
        "colab": {
          "base_uri": "https://localhost:8080/",
          "height": 35
        },
        "outputId": "ed28879d-ecdd-47a7-c7ec-9e48f901ad8e"
      },
      "source": [
        "# 从存储的模型中获取训练超参数。\n",
        "# 为了进行微调，作者推荐以下超参数范围:批大小:16,32;学习率(Adam): 5e-5, 3e-5, 2e-5;epoch数量:2,3,4\n",
        "\n",
        "param_optimizer = list(model.named_parameters())\n",
        "no_decay = ['bias', 'gamma', 'beta']\n",
        "optimizer_grouped_parameters = [\n",
        "    {'params': [p for n, p in param_optimizer if not any(nd in n for nd in no_decay)],\n",
        "     'weight_decay_rate': 0.01},\n",
        "    {'params': [p for n, p in param_optimizer if any(nd in n for nd in no_decay)],\n",
        "     'weight_decay_rate': 0.0}\n",
        "]\n",
        "# This variable contains all of the hyperparemeter information our training loop needs\n",
        "optimizer = BertAdam(optimizer_grouped_parameters,\n",
        "                     lr=2e-5,\n",
        "                     warmup=.1)\n"
      ],
      "execution_count": 73,
      "outputs": [
        {
          "output_type": "stream",
          "text": [
            "t_total value of -1 results in schedule not being applied\n"
          ],
          "name": "stderr"
        }
      ]
    },
    {
      "cell_type": "code",
      "metadata": {
        "id": "GHPi7V52mKvL",
        "colab_type": "code",
        "colab": {}
      },
      "source": [
        "param_optimizer"
      ],
      "execution_count": 0,
      "outputs": []
    },
    {
      "cell_type": "code",
      "metadata": {
        "id": "tS6_vc3vmM_I",
        "colab_type": "code",
        "colab": {}
      },
      "source": [
        "# 训练循环:\n",
        "# 通过在训练模式中设置模型，让模型计算梯度，\n",
        "# 解出数据输入和标签\n",
        "# 加载数据解压到GPU上进行加速\n",
        "# 清除上一遍计算出的梯度。在pytorch渐变积累在默认情况下(比如RNNs有用),除非你显式地清除他们\n",
        "# Forward传递(输入数据通过网络)\n",
        "# 向后传递(反向传播)\n",
        "# 告诉网络更新参数与optimizer.step()\n",
        "# 跟踪监测progress\n",
        "\n",
        "# Evalution循环\n",
        "# 告诉模型来计算梯度通过设置evaluation mode\n",
        "# 解压我们的数据输入和标签\n",
        "# 加载数据到GPU的加速\n",
        "# Forward pass\n",
        "# 计算验证数据的损失，跟踪变量以监控进展"
      ],
      "execution_count": 0,
      "outputs": []
    },
    {
      "cell_type": "code",
      "metadata": {
        "id": "2s3psuuCn1bO",
        "colab_type": "code",
        "colab": {}
      },
      "source": [
        "# Function to calculate the accuracy of our predictions vs labels\n",
        "def flat_accuracy(preds, labels):\n",
        "    pred_flat = np.argmax(preds, axis=1).flatten()\n",
        "    labels_flat = labels.flatten()\n",
        "    return np.sum(pred_flat == labels_flat) / len(labels_flat)"
      ],
      "execution_count": 0,
      "outputs": []
    },
    {
      "cell_type": "code",
      "metadata": {
        "id": "SDWmk7PRn8U3",
        "colab_type": "code",
        "colab": {
          "base_uri": "https://localhost:8080/",
          "height": 269
        },
        "outputId": "562f764f-ec93-44c4-c2c5-af577813f711"
      },
      "source": [
        "t =None # Store our loss and accuracy for plotting\n",
        "train_loss_set = []\n",
        "\n",
        "# Number of training epochs (authors recommend between 2 and 4)\n",
        "epochs = 4\n",
        "\n",
        "# trange is a tqdm wrapper around the normal python range\n",
        "for _ in trange(epochs, desc=\"Epoch\"):\n",
        "  \n",
        "  \n",
        "  # Training\n",
        "  \n",
        "  # Set our model to training mode (as opposed to evaluation mode)\n",
        "  model.train()\n",
        "  \n",
        "  # Tracking variables\n",
        "  tr_loss = 0\n",
        "  nb_tr_examples, nb_tr_steps = 0, 0\n",
        "  \n",
        "  # Train the data for one epoch\n",
        "  for step, batch in enumerate(train_dataloader):\n",
        "    # Add batch to GPU\n",
        "    batch = tuple(t.to(device) for t in batch)\n",
        "    # Unpack the inputs from our dataloader\n",
        "    b_input_ids, b_input_mask, b_labels = batch\n",
        "    # Clear out the gradients (by default they accumulate)\n",
        "    optimizer.zero_grad()\n",
        "    # Forward pass\n",
        "    loss = model(b_input_ids, token_type_ids=None, attention_mask=b_input_mask, labels=b_labels)\n",
        "    train_loss_set.append(loss.item())    \n",
        "    # Backward pass\n",
        "    loss.backward()\n",
        "    # Update parameters and take a step using the computed gradient\n",
        "    optimizer.step()\n",
        "    \n",
        "    \n",
        "    # Update tracking variables\n",
        "    tr_loss += loss.item()\n",
        "    nb_tr_examples += b_input_ids.size(0)\n",
        "    nb_tr_steps += 1\n",
        "\n",
        "  print(\"Train loss: {}\".format(tr_loss/nb_tr_steps))\n",
        "    \n",
        "    \n",
        "  # Validation\n",
        "\n",
        "  # Put model in evaluation mode to evaluate loss on the validation set\n",
        "  model.eval()\n",
        "\n",
        "  # Tracking variables \n",
        "  eval_loss, eval_accuracy = 0, 0\n",
        "  nb_eval_steps, nb_eval_examples = 0, 0\n",
        "\n",
        "  # Evaluate data for one epoch\n",
        "  for batch in validation_dataloader:\n",
        "    # Add batch to GPU\n",
        "    batch = tuple(t.to(device) for t in batch)\n",
        "    # Unpack the inputs from our dataloader\n",
        "    b_input_ids, b_input_mask, b_labels = batch\n",
        "    # Telling the model not to compute or store gradients, saving memory and speeding up validation\n",
        "    with torch.no_grad():\n",
        "      # Forward pass, calculate logit predictions\n",
        "      logits = model(b_input_ids, token_type_ids=None, attention_mask=b_input_mask)\n",
        "    \n",
        "    # Move logits and labels to CPU\n",
        "    logits = logits.detach().cpu().numpy()\n",
        "    label_ids = b_labels.to('cpu').numpy()\n",
        "\n",
        "    tmp_eval_accuracy = flat_accuracy(logits, label_ids)\n",
        "    \n",
        "    eval_accuracy += tmp_eval_accuracy\n",
        "    nb_eval_steps += 1\n",
        "\n",
        "  print(\"Validation Accuracy: {}\".format(eval_accuracy/nb_eval_steps))"
      ],
      "execution_count": 77,
      "outputs": [
        {
          "output_type": "stream",
          "text": [
            "\n",
            "Epoch:   0%|          | 0/4 [00:00<?, ?it/s]\u001b[A"
          ],
          "name": "stderr"
        },
        {
          "output_type": "stream",
          "text": [
            "Train loss: 0.5086342413519428\n"
          ],
          "name": "stdout"
        },
        {
          "output_type": "stream",
          "text": [
            "\n",
            "Epoch:  25%|██▌       | 1/4 [06:23<19:10, 383.49s/it]\u001b[A"
          ],
          "name": "stderr"
        },
        {
          "output_type": "stream",
          "text": [
            "Validation Accuracy: 0.7943672839506173\n",
            "Train loss: 0.27613331848964157\n"
          ],
          "name": "stdout"
        },
        {
          "output_type": "stream",
          "text": [
            "\n",
            "Epoch:  50%|█████     | 2/4 [12:46<12:46, 383.29s/it]\u001b[A"
          ],
          "name": "stderr"
        },
        {
          "output_type": "stream",
          "text": [
            "Validation Accuracy: 0.8198302469135803\n",
            "Train loss: 0.12553753989798894\n"
          ],
          "name": "stdout"
        },
        {
          "output_type": "stream",
          "text": [
            "\n",
            "Epoch:  75%|███████▌  | 3/4 [19:09<06:23, 383.18s/it]\u001b[A"
          ],
          "name": "stderr"
        },
        {
          "output_type": "stream",
          "text": [
            "Validation Accuracy: 0.8217592592592593\n",
            "Train loss: 0.07849335455996491\n"
          ],
          "name": "stdout"
        },
        {
          "output_type": "stream",
          "text": [
            "\n",
            "Epoch: 100%|██████████| 4/4 [25:31<00:00, 383.01s/it]\u001b[A\n",
            "\u001b[A"
          ],
          "name": "stderr"
        },
        {
          "output_type": "stream",
          "text": [
            "Validation Accuracy: 0.8198302469135803\n"
          ],
          "name": "stdout"
        }
      ]
    },
    {
      "cell_type": "code",
      "metadata": {
        "id": "GHNWe4hEomOO",
        "colab_type": "code",
        "colab": {
          "base_uri": "https://localhost:8080/",
          "height": 513
        },
        "outputId": "d49a9bdf-5dbf-4120-ab52-badba2e271d5"
      },
      "source": [
        "plt.figure(figsize=(15,8))\n",
        "plt.title(\"Training loss\")\n",
        "plt.xlabel(\"Batch\")\n",
        "plt.ylabel(\"Loss\")\n",
        "plt.plot(train_loss_set)\n",
        "plt.show()"
      ],
      "execution_count": 78,
      "outputs": [
        {
          "output_type": "display_data",
          "data": {
            "image/png": "[encoded data removed]",
            "text/plain": [
              "<Figure size 1080x576 with 1 Axes>"
            ]
          },
          "metadata": {
            "tags": []
          }
        }
      ]
    },
    {
      "cell_type": "code",
      "metadata": {
        "id": "FD70MVCZxRLA",
        "colab_type": "code",
        "colab": {}
      },
      "source": [
        "# 现在，我们将加载holdout数据集并准备输入，就像我们对训练集所做的那样。然后，我们将使用Matthew的相关系数来评估预测，因为这是更广泛的NLP社区用来评估CoLA性能的指标。\n",
        "# 在这个度量中，1是最好的分数，-1是最差的分数。通过这种方式，我们可以看到我们在针对这个特定任务的最先进模型的状态下执行得有多好。"
      ],
      "execution_count": 0,
      "outputs": []
    },
    {
      "cell_type": "code",
      "metadata": {
        "id": "Hpa7FINBxT-F",
        "colab_type": "code",
        "colab": {
          "resources": {
            "http://localhost:8080/nbextensions/google.colab/files.js": {
              "data": "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",
              "ok": true,
              "headers": [
                [
                  "content-type",
                  "application/javascript"
                ]
              ],
              "status": 200,
              "status_text": ""
            }
          },
          "base_uri": "https://localhost:8080/",
          "height": 77
        },
        "outputId": "cee5261e-627c-4d89-9112-a747b34da18e"
      },
      "source": [
        "# Upload the test file from your local drive\n",
        "from google.colab import files\n",
        "uploaded = files.upload()"
      ],
      "execution_count": 81,
      "outputs": [
        {
          "output_type": "display_data",
          "data": {
            "text/html": [
              "\n",
              "     <input type=\"file\" id=\"files-62ad63fd-4941-432c-ac77-a96c45d61d7b\" name=\"files[]\" multiple disabled />\n",
              "     <output id=\"result-62ad63fd-4941-432c-ac77-a96c45d61d7b\">\n",
              "      Upload widget is only available when the cell has been executed in the\n",
              "      current browser session. Please rerun this cell to enable.\n",
              "      </output>\n",
              "      <script src=\"/nbextensions/google.colab/files.js\"></script> "
            ],
            "text/plain": [
              "<IPython.core.display.HTML object>"
            ]
          },
          "metadata": {
            "tags": []
          }
        },
        {
          "output_type": "stream",
          "text": [
            "Saving out_of_domain_dev.tsv to out_of_domain_dev.tsv\n"
          ],
          "name": "stdout"
        }
      ]
    },
    {
      "cell_type": "code",
      "metadata": {
        "id": "I2gWocqvxkx2",
        "colab_type": "code",
        "colab": {}
      },
      "source": [
        "df = pd.read_csv(\"out_of_domain_dev.tsv\", delimiter='\\t', header=None, names=['sentence_source', 'label', 'label_notes', 'sentence'])\n",
        "\n",
        "# Create sentence and label lists\n",
        "sentences = df.sentence.values\n",
        "\n",
        "# We need to add special tokens at the beginning and end of each sentence for BERT to work properly\n",
        "sentences = [\"[CLS] \" + sentence + \" [SEP]\" for sentence in sentences]\n",
        "labels = df.label.values\n",
        "\n",
        "tokenized_texts = [tokenizer.tokenize(sent) for sent in sentences]\n",
        "\n",
        "\n",
        "MAX_LEN = 128\n",
        "# Use the BERT tokenizer to convert the tokens to their index numbers in the BERT vocabulary\n",
        "input_ids = [tokenizer.convert_tokens_to_ids(x) for x in tokenized_texts]\n",
        "# Pad our input tokens\n",
        "input_ids = pad_sequences(input_ids, maxlen=MAX_LEN, dtype=\"long\", truncating=\"post\", padding=\"post\")\n",
        "# Create attention masks\n",
        "attention_masks = []\n",
        "\n",
        "# Create a mask of 1s for each token followed by 0s for padding\n",
        "for seq in input_ids:\n",
        "  seq_mask = [float(i>0) for i in seq]\n",
        "  attention_masks.append(seq_mask) \n",
        "\n",
        "prediction_inputs = torch.tensor(input_ids)\n",
        "prediction_masks = torch.tensor(attention_masks)\n",
        "prediction_labels = torch.tensor(labels)\n",
        "  \n",
        "batch_size = 32  \n",
        "\n",
        "\n",
        "prediction_data = TensorDataset(prediction_inputs, prediction_masks, prediction_labels)\n",
        "prediction_sampler = SequentialSampler(prediction_data)\n",
        "prediction_dataloader = DataLoader(prediction_data, sampler=prediction_sampler, batch_size=batch_size)"
      ],
      "execution_count": 0,
      "outputs": []
    },
    {
      "cell_type": "code",
      "metadata": {
        "id": "4-zcwfFGx4du",
        "colab_type": "code",
        "colab": {}
      },
      "source": [
        "# Prediction on test set\n",
        "\n",
        "# Put model in evaluation mode\n",
        "model.eval()\n",
        "\n",
        "# Tracking variables \n",
        "predictions , true_labels = [], []\n",
        "\n",
        "# Predict \n",
        "for batch in prediction_dataloader:\n",
        "  # Add batch to GPU\n",
        "  batch = tuple(t.to(device) for t in batch)\n",
        "  # Unpack the inputs from our dataloader\n",
        "  b_input_ids, b_input_mask, b_labels = batch\n",
        "  # Telling the model not to compute or store gradients, saving memory and speeding up prediction\n",
        "  with torch.no_grad():\n",
        "    # Forward pass, calculate logit predictions\n",
        "    logits = model(b_input_ids, token_type_ids=None, attention_mask=b_input_mask)\n",
        "\n",
        "  # Move logits and labels to CPU\n",
        "  logits = logits.detach().cpu().numpy()\n",
        "  label_ids = b_labels.to('cpu').numpy()\n",
        "  \n",
        "  # Store predictions and true labels\n",
        "  predictions.append(logits)\n",
        "  true_labels.append(label_ids)"
      ],
      "execution_count": 0,
      "outputs": []
    },
    {
      "cell_type": "code",
      "metadata": {
        "id": "CtqkqmJYx918",
        "colab_type": "code",
        "colab": {
          "base_uri": "https://localhost:8080/",
          "height": 53
        },
        "outputId": "1a415034-b3aa-4b7e-8ef0-9317655c4b18"
      },
      "source": [
        "# Import and evaluate each test batch using Matthew's correlation coefficient\n",
        "from sklearn.metrics import matthews_corrcoef\n",
        "matthews_set = []\n",
        "\n",
        "for i in range(len(true_labels)):\n",
        "  matthews = matthews_corrcoef(true_labels[i],\n",
        "                 np.argmax(predictions[i], axis=1).flatten())\n",
        "  matthews_set.append(matthews)"
      ],
      "execution_count": 84,
      "outputs": [
        {
          "output_type": "stream",
          "text": [
            "/usr/local/lib/python3.6/dist-packages/sklearn/metrics/classification.py:872: RuntimeWarning: invalid value encountered in double_scalars\n",
            "  mcc = cov_ytyp / np.sqrt(cov_ytyt * cov_ypyp)\n"
          ],
          "name": "stderr"
        }
      ]
    },
    {
      "cell_type": "code",
      "metadata": {
        "id": "BIfdzSjbyBkd",
        "colab_type": "code",
        "colab": {}
      },
      "source": [
        "# Flatten the predictions and true values for aggregate Matthew's evaluation on the whole dataset\n",
        "flat_predictions = [item for sublist in predictions for item in sublist]\n",
        "flat_predictions = np.argmax(flat_predictions, axis=1).flatten()\n",
        "flat_true_labels = [item for sublist in true_labels for item in sublist]\n"
      ],
      "execution_count": 0,
      "outputs": []
    },
    {
      "cell_type": "code",
      "metadata": {
        "id": "u0WzPpQlyKp0",
        "colab_type": "code",
        "colab": {
          "base_uri": "https://localhost:8080/",
          "height": 35
        },
        "outputId": "39dc86d5-4021-4b55-f397-898a98e9e21f"
      },
      "source": [
        "matthews_corrcoef(flat_true_labels, flat_predictions)"
      ],
      "execution_count": 87,
      "outputs": [
        {
          "output_type": "execute_result",
          "data": {
            "text/plain": [
              "0.4941518925689932"
            ]
          },
          "metadata": {
            "tags": []
          },
          "execution_count": 87
        }
      ]
    },
    {
      "cell_type": "code",
      "metadata": {
        "id": "joPnNBSsyRTj",
        "colab_type": "code",
        "colab": {}
      },
      "source": [
        "# 可在https://gluebenchmark.com/leaderboard/submission/zlssuBTm5XRs0aSKbFYGVIVdvbj1/-LhijX9VVmvJcvzKymxy 查看最新的得分"
      ],
      "execution_count": 0,
      "outputs": []
    },
    {
      "cell_type": "code",
      "metadata": {
        "id": "tAzc_5hHy5p7",
        "colab_type": "code",
        "colab": {}
      },
      "source": [
        ""
      ],
      "execution_count": 0,
      "outputs": []
    }
  ]
}